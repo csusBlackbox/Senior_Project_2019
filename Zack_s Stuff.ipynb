{
 "cells": [
  {
   "cell_type": "code",
   "execution_count": 1,
   "metadata": {},
   "outputs": [],
   "source": [
    "import pandas as pd\n",
    "#pd.set_option('display.max_columns', None)\n",
    "import sklearn\n",
    "from sklearn.linear_model import Lasso\n",
    "from sklearn.linear_model import LassoCV\n",
    "from sklearn.linear_model import LinearRegression\n",
    "from sklearn.linear_model import ElasticNet\n",
    "from sklearn.linear_model import Ridge\n",
    "from sklearn.model_selection import train_test_split\n",
    "from collections.abc import Sequence\n",
    "from sklearn import preprocessing\n",
    "import matplotlib.pyplot as plt\n",
    "from scipy.stats import zscore\n",
    "from sklearn import metrics\n",
    "import numpy as np\n",
    "import os\n",
    "\n",
    "# Encode text values to dummy variables(i.e. [1,0,0],[0,1,0],[0,0,1] for red,green,blue)\n",
    "def encode_text_dummy(df, name):\n",
    "    dummies = pd.get_dummies(df[name])\n",
    "    for x in dummies.columns:\n",
    "        dummy_name = \"{}-{}\".format(name, x)\n",
    "        df[dummy_name] = dummies[x]\n",
    "    df.drop(name, axis=1, inplace=True)\n",
    "\n",
    "# Convert a Pandas dataframe to the x,y inputs that TensorFlow needs\n",
    "def to_xy(df, target):\n",
    "    result = []\n",
    "    for x in df.columns:\n",
    "        if x != target:\n",
    "            result.append(x)\n",
    "    # find out the type of the target column. \n",
    "    target_type = df[target].dtypes\n",
    "    target_type = target_type[0] if isinstance(target_type, Sequence) else target_type\n",
    "    # Encode to int for classification, float otherwise. TensorFlow likes 32 bits.\n",
    "    if target_type in (np.int64, np.int32):\n",
    "        # Classification\n",
    "        dummies = pd.get_dummies(df[target])\n",
    "        return df[result].values.astype(np.float32), dummies.values.astype(np.float32)\n",
    "    else:\n",
    "        # Regression\n",
    "        return df[result].values.astype(np.float32), df[target].values.astype(np.float32)\n"
   ]
  },
  {
   "cell_type": "code",
   "execution_count": 2,
   "metadata": {},
   "outputs": [],
   "source": [
    "import json\n",
    "dataset_filename = 'data.jsonl'\n",
    "def iter_dataset():\n",
    "    with open(dataset_filename, 'rt') as f:\n",
    "        for line in f:\n",
    "            ex = json.loads(line)\n",
    "            yield (ex['cms_prescription_counts'],\n",
    "                   ex['provider_variables'])\n",
    "\n",
    "def merge_dicts(*dicts: dict):\n",
    "    merged_dict = dict()\n",
    "    for dictionary in dicts:\n",
    "        merged_dict.update(dictionary)\n",
    "    return merged_dict\n",
    "\n",
    "data = [merge_dicts(x, y) for x, y in iter_dataset()]\n"
   ]
  },
  {
   "cell_type": "code",
   "execution_count": 3,
   "metadata": {},
   "outputs": [
    {
     "data": {
      "text/html": [
       "<div>\n",
       "<style scoped>\n",
       "    .dataframe tbody tr th:only-of-type {\n",
       "        vertical-align: middle;\n",
       "    }\n",
       "\n",
       "    .dataframe tbody tr th {\n",
       "        vertical-align: top;\n",
       "    }\n",
       "\n",
       "    .dataframe thead th {\n",
       "        text-align: right;\n",
       "    }\n",
       "</style>\n",
       "<table border=\"1\" class=\"dataframe\">\n",
       "  <thead>\n",
       "    <tr style=\"text-align: right;\">\n",
       "      <th></th>\n",
       "      <th>1ST TIER UNIFINE PENTIPS</th>\n",
       "      <th>ABACAVIR</th>\n",
       "      <th>ABELCET</th>\n",
       "      <th>ABILIFY</th>\n",
       "      <th>ABILIFY DISCMELT</th>\n",
       "      <th>ABILIFY MAINTENA</th>\n",
       "      <th>ABRAXANE</th>\n",
       "      <th>ABSTRAL</th>\n",
       "      <th>ACAMPROSATE CALCIUM</th>\n",
       "      <th>ACANYA</th>\n",
       "      <th>...</th>\n",
       "      <th>specialty-Vascular &amp; Interventional Radiology</th>\n",
       "      <th>specialty-Vascular Neurology</th>\n",
       "      <th>specialty-Vascular Sonography</th>\n",
       "      <th>specialty-Vascular Specialist</th>\n",
       "      <th>specialty-Vascular Surgery</th>\n",
       "      <th>specialty-Vision Therapy</th>\n",
       "      <th>specialty-Women</th>\n",
       "      <th>specialty-Women's Health</th>\n",
       "      <th>specialty-Women's Health Care, Ambulatory</th>\n",
       "      <th>specialty-Wound Care</th>\n",
       "    </tr>\n",
       "  </thead>\n",
       "  <tbody>\n",
       "    <tr>\n",
       "      <th>0</th>\n",
       "      <td>0.0</td>\n",
       "      <td>0.0</td>\n",
       "      <td>0.0</td>\n",
       "      <td>11.0</td>\n",
       "      <td>0.0</td>\n",
       "      <td>0.0</td>\n",
       "      <td>0.0</td>\n",
       "      <td>0.0</td>\n",
       "      <td>0.0</td>\n",
       "      <td>0.0</td>\n",
       "      <td>...</td>\n",
       "      <td>0</td>\n",
       "      <td>0</td>\n",
       "      <td>0</td>\n",
       "      <td>0</td>\n",
       "      <td>0</td>\n",
       "      <td>0</td>\n",
       "      <td>0</td>\n",
       "      <td>0</td>\n",
       "      <td>0</td>\n",
       "      <td>0</td>\n",
       "    </tr>\n",
       "    <tr>\n",
       "      <th>1</th>\n",
       "      <td>0.0</td>\n",
       "      <td>0.0</td>\n",
       "      <td>0.0</td>\n",
       "      <td>0.0</td>\n",
       "      <td>0.0</td>\n",
       "      <td>0.0</td>\n",
       "      <td>0.0</td>\n",
       "      <td>0.0</td>\n",
       "      <td>0.0</td>\n",
       "      <td>0.0</td>\n",
       "      <td>...</td>\n",
       "      <td>0</td>\n",
       "      <td>0</td>\n",
       "      <td>0</td>\n",
       "      <td>0</td>\n",
       "      <td>0</td>\n",
       "      <td>0</td>\n",
       "      <td>0</td>\n",
       "      <td>0</td>\n",
       "      <td>0</td>\n",
       "      <td>0</td>\n",
       "    </tr>\n",
       "    <tr>\n",
       "      <th>2</th>\n",
       "      <td>0.0</td>\n",
       "      <td>0.0</td>\n",
       "      <td>0.0</td>\n",
       "      <td>0.0</td>\n",
       "      <td>0.0</td>\n",
       "      <td>0.0</td>\n",
       "      <td>0.0</td>\n",
       "      <td>0.0</td>\n",
       "      <td>0.0</td>\n",
       "      <td>0.0</td>\n",
       "      <td>...</td>\n",
       "      <td>0</td>\n",
       "      <td>0</td>\n",
       "      <td>0</td>\n",
       "      <td>0</td>\n",
       "      <td>0</td>\n",
       "      <td>0</td>\n",
       "      <td>0</td>\n",
       "      <td>0</td>\n",
       "      <td>0</td>\n",
       "      <td>0</td>\n",
       "    </tr>\n",
       "    <tr>\n",
       "      <th>3</th>\n",
       "      <td>0.0</td>\n",
       "      <td>0.0</td>\n",
       "      <td>0.0</td>\n",
       "      <td>0.0</td>\n",
       "      <td>0.0</td>\n",
       "      <td>0.0</td>\n",
       "      <td>0.0</td>\n",
       "      <td>0.0</td>\n",
       "      <td>0.0</td>\n",
       "      <td>0.0</td>\n",
       "      <td>...</td>\n",
       "      <td>0</td>\n",
       "      <td>0</td>\n",
       "      <td>0</td>\n",
       "      <td>0</td>\n",
       "      <td>0</td>\n",
       "      <td>0</td>\n",
       "      <td>0</td>\n",
       "      <td>0</td>\n",
       "      <td>0</td>\n",
       "      <td>0</td>\n",
       "    </tr>\n",
       "    <tr>\n",
       "      <th>4</th>\n",
       "      <td>0.0</td>\n",
       "      <td>0.0</td>\n",
       "      <td>0.0</td>\n",
       "      <td>0.0</td>\n",
       "      <td>0.0</td>\n",
       "      <td>0.0</td>\n",
       "      <td>0.0</td>\n",
       "      <td>0.0</td>\n",
       "      <td>0.0</td>\n",
       "      <td>0.0</td>\n",
       "      <td>...</td>\n",
       "      <td>0</td>\n",
       "      <td>0</td>\n",
       "      <td>0</td>\n",
       "      <td>0</td>\n",
       "      <td>0</td>\n",
       "      <td>0</td>\n",
       "      <td>0</td>\n",
       "      <td>0</td>\n",
       "      <td>0</td>\n",
       "      <td>0</td>\n",
       "    </tr>\n",
       "  </tbody>\n",
       "</table>\n",
       "<p>5 rows × 2681 columns</p>\n",
       "</div>"
      ],
      "text/plain": [
       "   1ST TIER UNIFINE PENTIPS  ABACAVIR  ABELCET  ABILIFY  ABILIFY DISCMELT  \\\n",
       "0                       0.0       0.0      0.0     11.0               0.0   \n",
       "1                       0.0       0.0      0.0      0.0               0.0   \n",
       "2                       0.0       0.0      0.0      0.0               0.0   \n",
       "3                       0.0       0.0      0.0      0.0               0.0   \n",
       "4                       0.0       0.0      0.0      0.0               0.0   \n",
       "\n",
       "   ABILIFY MAINTENA  ABRAXANE  ABSTRAL  ACAMPROSATE CALCIUM  ACANYA  ...  \\\n",
       "0               0.0       0.0      0.0                  0.0     0.0  ...   \n",
       "1               0.0       0.0      0.0                  0.0     0.0  ...   \n",
       "2               0.0       0.0      0.0                  0.0     0.0  ...   \n",
       "3               0.0       0.0      0.0                  0.0     0.0  ...   \n",
       "4               0.0       0.0      0.0                  0.0     0.0  ...   \n",
       "\n",
       "   specialty-Vascular & Interventional Radiology  \\\n",
       "0                                              0   \n",
       "1                                              0   \n",
       "2                                              0   \n",
       "3                                              0   \n",
       "4                                              0   \n",
       "\n",
       "   specialty-Vascular Neurology  specialty-Vascular Sonography  \\\n",
       "0                             0                              0   \n",
       "1                             0                              0   \n",
       "2                             0                              0   \n",
       "3                             0                              0   \n",
       "4                             0                              0   \n",
       "\n",
       "   specialty-Vascular Specialist  specialty-Vascular Surgery  \\\n",
       "0                              0                           0   \n",
       "1                              0                           0   \n",
       "2                              0                           0   \n",
       "3                              0                           0   \n",
       "4                              0                           0   \n",
       "\n",
       "   specialty-Vision Therapy  specialty-Women  specialty-Women's Health  \\\n",
       "0                         0                0                         0   \n",
       "1                         0                0                         0   \n",
       "2                         0                0                         0   \n",
       "3                         0                0                         0   \n",
       "4                         0                0                         0   \n",
       "\n",
       "   specialty-Women's Health Care, Ambulatory  specialty-Wound Care  \n",
       "0                                          0                     0  \n",
       "1                                          0                     0  \n",
       "2                                          0                     0  \n",
       "3                                          0                     0  \n",
       "4                                          0                     0  \n",
       "\n",
       "[5 rows x 2681 columns]"
      ]
     },
     "execution_count": 3,
     "metadata": {},
     "output_type": "execute_result"
    }
   ],
   "source": [
    "df = pd.DataFrame(data)\n",
    "df.fillna(0, inplace=True)\n",
    "\n",
    "df.drop(columns='gender', inplace=True)\n",
    "df.drop(columns='region', inplace=True)\n",
    "df.drop(columns='settlement_type', inplace=True)\n",
    "df.drop(columns='years_practicing', inplace=True)\n",
    "\n",
    "drugName = \"specialty-Pulmonary Diagnostics\"\n",
    "\n",
    "encode_text_dummy(df, 'specialty')\n",
    "\n",
    "df.head()"
   ]
  },
  {
   "cell_type": "code",
   "execution_count": 4,
   "metadata": {},
   "outputs": [
    {
     "name": "stdout",
     "output_type": "stream",
     "text": [
      "Final score (RMSE): 0.0001403924252372235\n"
     ]
    }
   ],
   "source": [
    "# Encode to a 2D matrix for training\n",
    "x,y = to_xy(df, drugName)\n",
    "\n",
    "# Split into train/test\n",
    "x_train, x_test, y_train, y_test = train_test_split(x, y, test_size=0.25, random_state=45) \n",
    "\n",
    "#regressor = LinearRegression()\n",
    "regressor = LinearRegression()\n",
    "\n",
    "# Fit/train linear regression\n",
    "regressor.fit(x_train,y_train)\n",
    "\n",
    "# Predict\n",
    "pred = regressor.predict(x_test)\n",
    "\n",
    "# Measure RMSE error.  RMSE is common for regression.\n",
    "score = np.sqrt(metrics.mean_squared_error(pred,y_test))\n",
    "\n",
    "print(\"Final score (RMSE): {}\".format(score))"
   ]
  },
  {
   "cell_type": "code",
   "execution_count": 5,
   "metadata": {},
   "outputs": [
    {
     "name": "stdout",
     "output_type": "stream",
     "text": [
      "['1ST TIER UNIFINE PENTIPS', 'ABACAVIR', 'ABELCET', 'ABILIFY', 'ABILIFY DISCMELT', 'ABILIFY MAINTENA', 'ABRAXANE', 'ABSTRAL', 'ACAMPROSATE CALCIUM', 'ACANYA', 'ACARBOSE', 'ACCOLATE', 'ACCUNEB', 'ACCUPRIL', 'ACEBUTOLOL HCL', 'ACETAMINOPH-CAFF-DIHYDROCODEIN', 'ACETAMINOPHEN-BUTALBITAL', 'ACETAMINOPHEN-CODEINE', 'ACETAZOLAMIDE', 'ACETIC ACID', 'ACETIC ACID-ALUMINUM', 'ACETYLCYSTEINE', 'ACIPHEX', 'ACITRETIN', 'ACTEMRA', 'ACTIGALL', 'ACTIMMUNE', 'ACTIQ', 'ACTIVELLA', 'ACTONEL', 'ACTOPLUS MET', 'ACTOPLUS MET XR', 'ACTOS', 'ACYCLOVIR', 'ACZONE', 'ADACEL TDAP', 'ADALAT CC', 'ADAPALENE', 'ADCIRCA', 'ADDERALL', 'ADDERALL XR', 'ADRUCIL', 'ADVAIR DISKUS', 'ADVAIR HFA', 'ADVICOR', 'ADVOCATE PEN NEEDLES', 'AFEDITAB CR', 'AFINITOR', 'AGGRENOX', 'AGRYLIN', 'AIMSCO ULTRA THIN II', 'AK-POLY-BAC', 'ALBENZA', 'ALBUTEIN', 'ALBUTEROL SULFATE', 'ALCLOMETASONE DIPROPIONATE', 'ALCOHOL PADS', 'ALCOHOL PREP PADS', 'ALCOHOL PREP SWABS', 'ALCOHOL SWAB', 'ALCOHOL SWABS', 'ALCOHOL WIPES', 'ALDACTAZIDE', 'ALDACTONE', 'ALDARA', 'ALDURAZYME', 'ALENDRONATE SODIUM', 'ALFUZOSIN HCL', 'ALIMTA', 'ALINIA', 'ALKERAN', 'ALLOPURINOL', 'ALOCRIL', 'ALORA', 'ALOXI', 'ALPHAGAN P', 'ALPRAZOLAM', 'ALPRAZOLAM ER', 'ALPRAZOLAM INTENSOL', 'ALPRAZOLAM ODT', 'ALPRAZOLAM XR', 'ALREX', 'ALSUMA', 'ALTABAX', 'ALTACE', 'ALTAVERA', 'ALTOPREV', 'ALVESCO', 'ALYACEN', 'ALZ-NAC', 'AMANTADINE', 'AMARYL', 'AMBIEN', 'AMBIEN CR', 'AMBISOME', 'AMCINONIDE', 'AMERGE', 'AMETHYST', 'AMIFOSTINE', 'AMIKACIN SULFATE', 'AMILORIDE HCL', 'AMILORIDE-HYDROCHLOROTHIAZIDE', 'AMINOCAPROIC ACID', 'AMINOSYN II', 'AMIODARONE HCL', 'AMITIZA', 'AMITRIPTYLINE HCL', 'AMLODIPINE BESYLATE', 'AMLODIPINE BESYLATE-BENAZEPRIL', 'AMLODIPINE-ATORVASTATIN', 'AMMONIUM LACTATE', 'AMNESTEEM', 'AMOX TR-POTASSIUM CLAVULANATE', 'AMOXAPINE', 'AMOXICILLIN', 'AMOXICILLIN-CLAVULANATE ER', 'AMPHETAMINE SALT COMBO', 'AMPHOTERICIN B', 'AMPICILLIN SODIUM', 'AMPICILLIN TRIHYDRATE', 'AMPICILLIN-SULBACTAM', 'AMPYRA', 'AMRIX', 'AMTURNIDE', 'ANADROL-50', 'ANAFRANIL', 'ANAGRELIDE HCL', 'ANAPROX DS', 'ANASPAZ', 'ANASTROZOLE', 'ANDRODERM', 'ANDROGEL', 'ANDROID', 'ANDROXY', 'ANGELIQ', 'ANTABUSE', 'ANTARA', 'ANTIPYRINE-BENZOCAINE', 'ANUSOL-HC', 'ANZEMET', 'APIDRA', 'APIDRA SOLOSTAR', 'APLENZIN', 'APOKYN', 'APRACLONIDINE HCL', 'APRI', 'APRISO', 'APTIVUS', 'ARALAST NP', 'ARANELLE', 'ARANESP', 'ARAVA', 'ARBINOXA', 'ARCALYST', 'ARCAPTA NEOHALER', 'ARESTIN', 'ARICEPT', 'ARIMIDEX', 'ARISTOSPAN', 'ARIXTRA', 'ARMOUR THYROID', 'AROMASIN', 'ARTHROTEC 50', 'ARTHROTEC 75', 'ASACOL', 'ASACOL HD', 'ASCOMP WITH CODEINE', 'ASMANEX', 'ASTELIN', 'ASTEPRO', 'ATACAND', 'ATACAND HCT', 'ATELVIA', 'ATENOLOL', 'ATENOLOL-CHLORTHALIDONE', 'ATIVAN', 'ATORVASTATIN CALCIUM', 'ATOVAQUONE-PROGUANIL HCL', 'ATRIPLA', 'ATROPINE SULFATE', 'ATROVENT', 'ATROVENT HFA', 'AUBAGIO', 'AUVI-Q', 'AVALIDE', 'AVANDAMET', 'AVANDARYL', 'AVANDIA', 'AVAPRO', 'AVASTIN', 'AVELOX', 'AVELOX ABC PACK', 'AVELOX IV', 'AVIANE', 'AVINZA', 'AVODART', 'AVONEX', 'AVONEX ADMINISTRATION PACK', 'AVONEX PEN', 'AXERT', 'AXIRON', 'AXONA', 'AYGESTIN', 'AZACTAM', 'AZACTAM-ISO-OSMOTIC DEXTROSE', 'AZASAN', 'AZASITE', 'AZATHIOPRINE', 'AZELASTINE HCL', 'AZELEX', 'AZILECT', 'AZITHROMYCIN', 'AZOPT', 'AZOR', 'AZTREONAM', 'AZULFIDINE', 'AZURETTE', 'BACIIM', 'BACITRACIN', 'BACITRACIN-POLYMYXIN', 'BACLOFEN', 'BACMIN', 'BACTROBAN', 'BACTROBAN NASAL', 'BALSALAZIDE DISODIUM', 'BALZIVA', 'BANZEL', 'BARACLUDE', 'BCG VACCINE (TICE STRAIN)', 'BD INSULIN SYRINGE MICRO-FINE', 'BD INSULIN SYRINGE ULT-FINE II', 'BD INSULIN SYRINGE ULTRA-FINE', 'BD ULTRA-FINE PEN NEEDLE', 'BECONASE AQ', 'BELLADONNA-OPIUM', 'BELVIQ', 'BENAZEPRIL HCL', 'BENAZEPRIL-HYDROCHLOROTHIAZIDE', 'BENICAR', 'BENICAR HCT', 'BENLYSTA', 'BENTYL', 'BENZONATATE', 'BENZTROPINE MESYLATE', 'BEPREVE', 'BERINERT', 'BESIVANCE', 'BETAMETHASONE DIPROPIONATE', 'BETAMETHASONE VALERATE', 'BETAPACE', 'BETAPACE AF', 'BETASERON', 'BETAXOLOL HCL', 'BETHANECHOL CHLORIDE', 'BETIMOL', 'BETOPTIC S', 'BEYAZ', 'BIAXIN', 'BIAXIN XL', 'BICALUTAMIDE', 'BICILLIN L-A', 'BIDIL', 'BIFERA RX', 'BILTRICIDE', 'BINOSTO', 'BISOPROLOL FUMARATE', 'BISOPROLOL-HYDROCHLOROTHIAZIDE', 'BLEPHAMIDE', 'BLEPHAMIDE S.O.P.', 'BONIVA', 'BOOSTRIX TDAP', 'BOSULIF', 'BOTOX', 'BP 10-1', 'BREO ELLIPTA', 'BRIELLYN', 'BRILINTA', 'BRIMONIDINE TARTRATE', 'BRINTELLIX', 'BROMDAY', 'BROMFED DM', 'BROMFENAC SODIUM', 'BROMOCRIPTINE MESYLATE', 'BROVANA', 'BUDEPRION SR', 'BUDEPRION XL', 'BUDESONIDE', 'BUDESONIDE EC', 'BUMETANIDE', 'BUPAP', 'BUPHENYL', 'BUPIVACAINE HCL', 'BUPRENEX', 'BUPRENORPHINE HCL', 'BUPRENORPHINE-NALOXONE', 'BUPROBAN', 'BUPROPION HCL', 'BUPROPION HCL SR', 'BUPROPION XL', 'BUSPIRONE HCL', 'BUTALB-CAFF-ACETAMINOPH-CODEIN', 'BUTALBITAL COMPOUND-CODEINE', 'BUTALBITAL-ACETAMINOPHEN-CAFFE', 'BUTALBITAL-ASPIRIN-CAFFEINE', 'BUTISOL SODIUM', 'BUTORPHANOL TARTRATE', 'BUTRANS', 'BYDUREON', 'BYETTA', 'BYSTOLIC', 'CABERGOLINE', 'CADUET', 'CALAN', 'CALAN SR', 'CALCIPOTRIENE', 'CALCITONIN-SALMON', 'CALCITRIOL', 'CALCIUM ACETATE', 'CALCIUM CHLORIDE', 'CALCIUM GLUCONATE', 'CALCIUM-FOLIC ACID PLUS D', 'CAMBIA', 'CAMILA', 'CAMPRAL', 'CAMRESE LO', 'CANASA', 'CANCIDAS', 'CANDESARTAN CILEXETIL', 'CANDESARTAN-HYDROCHLOROTHIAZID', 'CANTIL', 'CAPEX SHAMPOO', 'CAPRELSA', 'CAPTOPRIL', 'CAPTOPRIL-HYDROCHLOROTHIAZIDE', 'CARAC', 'CARAFATE', 'CARBAMAZEPINE', 'CARBAMAZEPINE ER', 'CARBAMAZEPINE XR', 'CARBATROL', 'CARBIDOPA-LEVODOPA', 'CARBIDOPA-LEVODOPA ER', 'CARBIDOPA-LEVODOPA-ENTACAPONE', 'CARBINOXAMINE MALEATE', 'CARBOPLATIN', 'CARDENE SR', 'CARDIOTEK-RX', 'CARDIZEM', 'CARDIZEM CD', 'CARDIZEM LA', 'CARDURA', 'CARDURA XL', 'CARIMUNE NF NANOFILTERED', 'CARISOPRODOL', 'CARISOPRODOL COMPOUND', 'CARISOPRODOL COMPOUND-CODEINE', 'CARNITOR', 'CARNITOR SF', 'CARTEOLOL HCL', 'CARTIA XT', 'CARVEDILOL', 'CASODEX', 'CATAPRES', 'CATAPRES-TTS 1', 'CATAPRES-TTS 2', 'CATAPRES-TTS 3', 'CAYSTON', 'CAZIANT', 'CEDAX', 'CEENU', 'CEFACLOR', 'CEFADROXIL', 'CEFAZOLIN', 'CEFAZOLIN SODIUM', 'CEFDINIR', 'CEFEPIME', 'CEFEPIME HCL', 'CEFOTETAN', 'CEFOXITIN', 'CEFOXITIN SODIUM', 'CEFPODOXIME PROXETIL', 'CEFPROZIL', 'CEFTAZIDIME', 'CEFTRIAXONE', 'CEFUROXIME', 'CELEBREX', 'CELEXA', 'CELLCEPT', 'CELONTIN', 'CENESTIN', 'CENTANY', 'CENTANY AT', 'CEPHALEXIN', 'CEREFOLIN', 'CEREFOLIN NAC', 'CEREZYME', 'CETIRIZINE HCL', 'CEVIMELINE HCL', 'CHANTIX', 'CHENODAL', 'CHLORDIAZEPOXIDE HCL', 'CHLORDIAZEPOXIDE-AMITRIPTYLINE', 'CHLORHEXIDINE GLUCONATE', 'CHLOROQUINE PHOSPHATE', 'CHLOROTHIAZIDE', 'CHLOROTHIAZIDE SODIUM', 'CHLORPROMAZINE HCL', 'CHLORPROPAMIDE', 'CHLORTHALIDONE', 'CHLORZOXAZONE', 'CHOLESTYRAMINE', 'CHOLESTYRAMINE LIGHT', 'CHOLINE MAG TRISALICYLATE', 'CHORIONIC GONADOTROPIN', 'CIALIS', 'CICLOPIROX', 'CILOSTAZOL', 'CILOXAN', 'CIMETIDINE', 'CIMZIA', 'CINRYZE', 'CIPRO', 'CIPRO HC', 'CIPRODEX', 'CIPROFLOXACIN', 'CIPROFLOXACIN ER', 'CIPROFLOXACIN HCL', 'CIPROFLOXACIN-D5W', 'CISPLATIN', 'CITALOPRAM HBR', 'CLARAVIS', 'CLARINEX', 'CLARINEX-D 12 HOUR', 'CLARITHROMYCIN', 'CLARITHROMYCIN ER', 'CLEMASTINE FUMARATE', 'CLEOCIN', 'CLEOCIN PHOSPHATE', 'CLICKFINE', 'CLIMARA', 'CLIMARA PRO', 'CLINDAGEL', 'CLINDAMYCIN HCL', 'CLINDAMYCIN PALMITATE HCL', 'CLINDAMYCIN PHOS-BENZOYL PEROX', 'CLINDAMYCIN PHOSPHATE', 'CLINDAMYCIN PHOSPHATE-D5W', 'CLINDAMYCIN-BENZOYL PEROXIDE', 'CLINIMIX', 'CLINIMIX E', 'CLINISOL', 'CLINPRO 5000', 'CLOBETASOL EMOLLIENT', 'CLOBETASOL PROPIONATE', 'CLOBEX', 'CLODERM', 'CLOMIPRAMINE HCL', 'CLONAZEPAM', 'CLONIDINE', 'CLONIDINE HCL', 'CLOPIDOGREL', 'CLORAZEPATE DIPOTASSIUM', 'CLORPRES', 'CLOTRIMAZOLE', 'CLOTRIMAZOLE-BETAMETHASONE', 'CLOZAPINE', 'CLOZAPINE ODT', 'CLOZARIL', 'CO-GESIC', 'COARTEM', 'CODEINE SULFATE', 'COLAZAL', 'COLCRYS', 'COLESTID', 'COLESTIPOL HCL', 'COLISTIMETHATE SODIUM', 'COLOCORT', 'COLY-MYCIN M PARENTERAL', 'COLYTE WITH FLAVOR PACKETS', 'COLYTE WITH FLAVOR PACKS', 'COMBIGAN', 'COMBIPATCH', 'COMBIVENT', 'COMBIVENT RESPIMAT', 'COMBIVIR', 'COMETRIQ', 'COMFORT EZ', 'COMPLERA', 'COMPRO', 'COMTAN', 'CONCEPT DHA', 'CONCERTA', 'CONSTULOSE', 'CONZIP', 'COPAXONE', 'COPEGUS', 'CORDARONE', 'CORDRAN', 'COREG', 'COREG CR', 'CORGARD', 'CORTEF', 'CORTIFOAM', 'CORTISONE ACETATE', 'CORTISPORIN', 'CORTISPORIN-TC', 'CORVITA', 'CORVITA 150', 'CORVITE 150', 'CORVITE FE', 'CORVITE FREE', 'CORZIDE', 'COSOPT', 'COSOPT PF', 'COUMADIN', 'COZAAR', 'CREON', 'CRESTOR', 'CRINONE', 'CRIXIVAN', 'CROMOLYN SODIUM', 'CRYSELLE', 'CUBICIN', 'CUPRIMINE', 'CURITY ALCOHOL PREPS', 'CUVPOSA', 'CYANOCOBALAMIN INJECTION', 'CYCLAFEM', 'CYCLESSA', 'CYCLOBENZAPRINE HCL', 'CYCLOPENTOLATE HCL', 'CYCLOPHOSPHAMIDE', 'CYCLOSET', 'CYCLOSPORINE', 'CYCLOSPORINE MODIFIED', 'CYMBALTA', 'CYPROHEPTADINE HCL', 'CYSTADANE', 'CYSTAGON', 'CYTARABINE', 'CYTOGAM', 'CYTOMEL', 'CYTOTEC', 'CYTRA-2', 'CYTRA-3', 'CYTRA-K', 'DACOGEN', 'DALIRESP', 'DANAZOL', 'DANTRIUM', 'DANTROLENE SODIUM', 'DAPSONE', 'DARAPRIM', 'DASETTA', 'DAYPRO', 'DAYTRANA', 'DDAVP', 'DECAVAC', 'DEFEROXAMINE MESYLATE', 'DELESTROGEN', 'DELZICOL', 'DEMADEX', 'DEMECLOCYCLINE HCL', 'DEMEROL', 'DENAVIR', 'DENTA 5000 PLUS', 'DENTAGEL', 'DEPACON', 'DEPAKENE', 'DEPAKOTE', 'DEPAKOTE ER', 'DEPAKOTE SPRINKLE', 'DEPEN', 'DEPLIN', 'DEPLIN-ALGAL OIL', 'DEPO-ESTRADIOL', 'DEPO-MEDROL', 'DEPO-PROVERA', 'DEPO-TESTOSTERONE', 'DERMA-SMOOTHE-FS', 'DERMATOP', 'DERMOTIC', 'DESFERAL', 'DESIPRAMINE HCL', 'DESLORATADINE', 'DESMOPRESSIN ACETATE', 'DESOGEN', 'DESONATE', 'DESONIDE', 'DESOXIMETASONE', 'DESOXYN', 'DESVENLAFAXINE ER', 'DETROL', 'DETROL LA', 'DEXAMETHASONE', 'DEXAMETHASONE INTENSOL', 'DEXAMETHASONE SODIUM PHOSPHATE', 'DEXEDRINE', 'DEXILANT', 'DEXMETHYLPHENIDATE HCL', 'DEXPAK', 'DEXTROAMPHETAMINE SULFATE', 'DEXTROAMPHETAMINE-AMPHETAMINE', 'DEXTROSE 5%-0.45% NACL-KCL', 'DEXTROSE 5%-1/2NS-KCL', 'DEXTROSE 5%-NS-KCL', 'DEXTROSE IN LACTATED RINGERS', 'DEXTROSE IN WATER', 'DEXTROSE WITH SODIUM CHLORIDE', 'DIABETA', 'DIALYVITE', 'DIALYVITE 5000', 'DIALYVITE ZINC', 'DIAMOX SEQUELS', 'DIANEAL WITH 1.5% DEXTROSE', 'DIASTAT ACUDIAL', 'DIAZEPAM', 'DIBENZYLINE', 'DICLOFENAC POTASSIUM', 'DICLOFENAC SODIUM', 'DICLOFENAC SODIUM-MISOPROSTOL', 'DICLOXACILLIN SODIUM', 'DICYCLOMINE HCL', 'DIDANOSINE', 'DIETHYLPROPION HCL', 'DIFICID', 'DIFLORASONE DIACETATE', 'DIFLUCAN', 'DIFLUNISAL', 'DIGOX', 'DIGOXIN', 'DIHYDROERGOTAMINE MESYLATE', 'DILACOR XR', 'DILANTIN', 'DILANTIN-125', 'DILATRATE-SR', 'DILAUDID', 'DILAUDID-HP', 'DILT-CD', 'DILT-XR', 'DILTIAZEM 24HR CD', 'DILTIAZEM 24HR ER', 'DILTIAZEM ER', 'DILTIAZEM HCL', 'DILTZAC ER', 'DIOVAN', 'DIOVAN HCT', 'DIPENTUM', 'DIPHENHYDRAMINE HCL', 'DIPHENOXYLATE-ATROPINE', 'DIPROLENE AF', 'DIPYRIDAMOLE', 'DISOPYRAMIDE PHOSPHATE', 'DISULFIRAM', 'DITROPAN XL', 'DIVALPROEX SODIUM', 'DIVALPROEX SODIUM ER', 'DIVIGEL', 'DOBUTAMINE HCL', 'DOBUTAMINE HCL IN DEXTROSE', 'DOCETAXEL', 'DOLOPHINE HCL', 'DONEPEZIL HCL', 'DONEPEZIL HCL ODT', 'DORIBAX', 'DORYX', 'DORZOLAMIDE HCL', 'DORZOLAMIDE-TIMOLOL', 'DOVONEX', 'DOXAZOSIN MESYLATE', 'DOXEPIN HCL', 'DOXIL', 'DOXORUBICIN HCL', 'DOXY 100', 'DOXYCYCLINE HYCLATE', 'DOXYCYCLINE MONOHYDRATE', 'DRISDOL', 'DRONABINOL', 'DROXIA', 'DUETACT', 'DUEXIS', 'DULERA', 'DULOXETINE HCL', 'DURAGESIC', 'DUREZOL', 'DUTOPROL', 'DYAZIDE', 'DYMISTA', 'DYRENIUM', 'E.E.S. 200', 'E.E.S. 400', 'EASY COMFORT INSULIN SYRINGE', 'EASY COMFORT PEN NEEDLES', 'EASY TOUCH', 'EASY TOUCH ALCOHOL PREP PADS', 'EASY TOUCH INSULIN SYRINGE', 'EASY-TOUCH INSULIN SYRINGE', 'EC-NAPROSYN', 'ECONAZOLE NITRATE', 'ED-SPAZ', 'EDARBI', 'EDARBYCLOR', 'EDECRIN', 'EDLUAR', 'EDURANT', 'EFFER-K', 'EFFEXOR XR', 'EFFIENT', 'EFUDEX', 'EGRIFTA', 'ELAPRASE', 'ELDEPRYL', 'ELELYSO', 'ELESTRIN', 'ELIDEL', 'ELIGARD', 'ELINEST', 'ELIPHOS', 'ELIQUIS', 'ELIXOPHYLLIN', 'ELMIRON', 'ELOCON', 'EMCYT', 'EMEND', 'EMOQUETTE', 'EMSAM', 'EMTRIVA', 'ENABLEX', 'ENALAPRIL MALEATE', 'ENALAPRIL-HYDROCHLOROTHIAZIDE', 'ENALAPRILAT', 'ENBREL', 'ENDOCET', 'ENDODAN', 'ENGERIX-B ADULT', 'ENJUVIA', 'ENOXAPARIN SODIUM', 'ENPRESSE', 'ENTACAPONE', 'ENTOCORT EC', 'ENULOSE', 'EPIDUO', 'EPINASTINE HCL', 'EPIPEN 2-PAK', 'EPITOL', 'EPIVIR', 'EPIVIR HBV', 'EPLERENONE', 'EPOGEN', 'EPROSARTAN MESYLATE', 'EPZICOM', 'EQUETRO', 'ERAXIS (WATER DILUENT)', 'ERBITUX', 'ERGOLOID MESYLATES', 'ERIVEDGE', 'ERRIN', 'ERTACZO', 'ERY', 'ERY-TAB', 'ERYPED 200', 'ERYPED 400', 'ERYTHROCIN STEARATE', 'ERYTHROMYCIN', 'ERYTHROMYCIN ETHYLSUCCINATE', 'ERYTHROMYCIN-BENZOYL PEROXIDE', 'ESCITALOPRAM OXALATE', 'ESGIC-PLUS', 'ESTAZOLAM', 'ESTRACE', 'ESTRADIOL', 'ESTRADIOL VALERATE', 'ESTRADIOL-NORETHINDRONE ACETAT', 'ESTRING', 'ESTROPIPATE', 'ETHAMBUTOL HCL', 'ETHOSUXIMIDE', 'ETIDRONATE DISODIUM', 'ETODOLAC', 'EURAX', 'EVAMIST', 'EVISTA', 'EVOXAC', 'EXALGO', 'EXELDERM', 'EXELON', 'EXEMESTANE', 'EXFORGE', 'EXFORGE HCT', 'EXJADE', 'EXTAVIA', 'EXTINA', 'FABB', 'FABRAZYME', 'FACTIVE', 'FALMINA', 'FAMCICLOVIR', 'FAMOTIDINE', 'FAMVIR', 'FANAPT', 'FARESTON', 'FASLODEX', 'FAZACLO', 'FE C', 'FELBAMATE', 'FELBATOL', 'FELDENE', 'FELODIPINE ER', 'FEMARA', 'FEMCON FE', 'FEMHRT', 'FEMRING', 'FENOFIBRATE', 'FENOFIBRIC ACID', 'FENOGLIDE', 'FENOPROFEN CALCIUM', 'FENTANYL', 'FENTANYL CITRATE', 'FENTORA', 'FEROCON', 'FERRALET 90', 'FERREX 150 FORTE', 'FERREX 150 FORTE PLUS', 'FERREX 28', 'FERRIPROX', 'FERROCITE PLUS', 'FEXOFENADINE HCL', 'FINACEA', 'FINASTERIDE', 'FIORICET', 'FIORICET WITH CODEINE', 'FIORINAL', 'FIORINAL WITH CODEINE #3', 'FIRAZYR', 'FIRMAGON', 'FLAGYL ER', 'FLAREX', 'FLAVOXATE HCL', 'FLEBOGAMMA DIF', 'FLECAINIDE ACETATE', 'FLECTOR', 'FLOMAX', 'FLONASE', 'FLOVENT DISKUS', 'FLOVENT HFA', 'FLUCONAZOLE', 'FLUCONAZOLE IN DEXTROSE', 'FLUCONAZOLE IN SALINE', 'FLUCYTOSINE', 'FLUDROCORTISONE ACETATE', 'FLUMAZENIL', 'FLUNISOLIDE', 'FLUOCINOLONE ACETONIDE', 'FLUOCINOLONE ACETONIDE OIL', 'FLUOCINONIDE', 'FLUOCINONIDE EMOLLIENT', 'FLUOCINONIDE-E', 'FLUORIDE', 'FLUOROMETHOLONE', 'FLUOROPLEX', 'FLUOROURACIL', 'FLUOXETINE DR', 'FLUOXETINE HCL', 'FLUPHENAZINE DECANOATE', 'FLUPHENAZINE HCL', 'FLURAZEPAM HCL', 'FLURBIPROFEN', 'FLURBIPROFEN SODIUM', 'FLUTAMIDE', 'FLUTICASONE PROPIONATE', 'FLUVASTATIN SODIUM', 'FLUVOXAMINE MALEATE', 'FML FORTE', 'FML S.O.P.', 'FOCALIN', 'FOCALIN XR', 'FOLBEE', 'FOLBEE PLUS', 'FOLBEE PLUS CZ', 'FOLBIC', 'FOLCAL DHA', 'FOLCAPS', 'FOLGARD OS', 'FOLGARD RX', 'FOLIC ACID', 'FOLIC ACID-VIT B6-VIT B12', 'FOLIVANE-PLUS', 'FOLOTYN', 'FOLPLEX 2.2', 'FOLTANX', 'FOLTX', 'FONDAPARINUX SODIUM', 'FORADIL', 'FORFIVO XL', 'FORTAMET', 'FORTEO', 'FORTESTA', 'FORTICAL', 'FOSAMAX', 'FOSAMAX PLUS D', 'FOSINOPRIL SODIUM', 'FOSINOPRIL-HYDROCHLOROTHIAZIDE', 'FOSRENOL', 'FOSTEUM', 'FRAGMIN', 'FREAMINE III', 'FROVA', 'FULYZAQ', 'FUROSEMIDE', 'FUSILEV', 'FUZEON', 'GABAPENTIN', 'GABITRIL', 'GALANTAMINE HBR', 'GALANTAMINE HYDROBROMIDE', 'GALZIN', 'GAMASTAN S-D', 'GAMMAGARD LIQUID', 'GAMMAGARD S-D', 'GAMMAKED', 'GAMMAPLEX', 'GAMUNEX-C', 'GANCICLOVIR SODIUM', 'GASTROCROM', 'GATIFLOXACIN', 'GATTEX', 'GAVILYTE-C', 'GAVILYTE-G', 'GAVILYTE-N', 'GELNIQUE', 'GEMCITABINE HCL', 'GEMFIBROZIL', 'GEMZAR', 'GENERESS FE', 'GENERLAC', 'GENGRAF', 'GENOTROPIN', 'GENTAK', 'GENTAMICIN SULFATE', 'GENTAMICIN SULFATE IN NS', 'GEODON', 'GIANVI', 'GILDESS', 'GILDESS FE', 'GILENYA', 'GLASSIA', 'GLEEVEC', 'GLIMEPIRIDE', 'GLIPIZIDE', 'GLIPIZIDE ER', 'GLIPIZIDE XL', 'GLIPIZIDE-METFORMIN', 'GLUCAGEN', 'GLUCAGON EMERGENCY KIT', 'GLUCOPHAGE', 'GLUCOPHAGE XR', 'GLUCOTROL', 'GLUCOTROL XL', 'GLUCOVANCE', 'GLUMETZA', 'GLYBURIDE', 'GLYBURIDE MICRONIZED', 'GLYBURIDE-METFORMIN HCL', 'GLYCOPYRROLATE', 'GLYSET', 'GOLYTELY', 'GRALISE', 'GRANISETRON HCL', 'GRIFULVIN V', 'GRIS-PEG', 'GRISEOFULVIN', 'GRISEOFULVIN ULTRAMICROSIZE', 'GUANFACINE HCL', 'GUANIDINE HCL', 'H.P. ACTHAR', 'HALAVEN', 'HALCION', 'HALDOL DECANOATE 100', 'HALDOL DECANOATE 50', 'HALFLYTELY-BISACODYL', 'HALOBETASOL PROPIONATE', 'HALOG', 'HALOPERIDOL', 'HALOPERIDOL DECANOATE', 'HALOPERIDOL DECANOATE 100', 'HALOPERIDOL LACTATE', 'HAVRIX', 'HEALTHY ACCENTS UNIFINE PENTIP', 'HEATHER', 'HECORIA', 'HECTOROL', 'HEMATINIC PLUS', 'HEMATINIC WITH FOLIC ACID', 'HEMATOGEN', 'HEPARIN SODIUM', 'HEPARIN SODIUM-D5W', 'HEPSERA', 'HERCEPTIN', 'HEXALEN', 'HIPREX', 'HIZENTRA', 'HORIZANT', 'HUMALOG', 'HUMALOG MIX 50-50', 'HUMALOG MIX 75-25', 'HUMATROPE', 'HUMIRA', 'HUMULIN 70-30', 'HUMULIN N', 'HUMULIN R', 'HYCET', 'HYDRALAZINE HCL', 'HYDREA', 'HYDROCHLOROTHIAZIDE', 'HYDROCODONE BIT-IBUPROFEN', 'HYDROCODONE-ACETAMINOPHEN', 'HYDROCODONE-CHLORPHENIRAMINE', 'HYDROCODONE-HOMATROPINE MBR', 'HYDROCODONE-IBUPROFEN', 'HYDROCORTISONE', 'HYDROCORTISONE BUTYRATE', 'HYDROCORTISONE VALERATE', 'HYDROCORTISONE-ACETIC ACID', 'HYDROMET', 'HYDROMORPHONE HCL', 'HYDROQUINONE', 'HYDROXYCHLOROQUINE SULFATE', 'HYDROXYUREA', 'HYDROXYZINE HCL', 'HYDROXYZINE PAMOATE', 'HYOMAX-SL', 'HYOSCYAMINE SULFATE', 'HYOSYNE', 'HYPERCARE', 'HYZAAR', 'IBANDRONATE SODIUM', 'IBUPROFEN', 'ICAR-C PLUS', 'ICLUSIG', 'IFEREX 150 FORTE', 'ILEVRO', 'IMDUR', 'IMIPENEM-CILASTATIN SODIUM', 'IMIPRAMINE HCL', 'IMIPRAMINE PAMOATE', 'IMIQUIMOD', 'IMITREX', 'IMURAN', 'IN CONTROL PEN NEEDLE', 'INCIVEK', 'INCONTROL', 'INDAPAMIDE', 'INDERAL LA', 'INDOCIN', 'INDOMETHACIN', 'INLYTA', 'INNOPRAN XL', 'INSPRA', 'INSULIN PEN NEEDLE', 'INSULIN SYRINGE', 'INSUPEN', 'INTEGRA PLUS', 'INTEGRA SYRINGE', 'INTELENCE', 'INTERMEZZO', 'INTRALIPID', 'INTRON A', 'INTUNIV', 'INVANZ', 'INVEGA', 'INVEGA SUSTENNA', 'INVIRASE', 'INVOKANA', 'IPOL', 'IPRATROPIUM BROMIDE', 'IPRATROPIUM-ALBUTEROL', 'IRBESARTAN', 'IRBESARTAN-HYDROCHLOROTHIAZIDE', 'IRINOTECAN HCL', 'IROSPAN', 'ISENTRESS', 'ISONIAZID', 'ISOPTO CARPINE', 'ISORDIL', 'ISOSORBIDE DINITRATE', 'ISOSORBIDE MONONITRATE', 'ISOSORBIDE MONONITRATE ER', 'ISRADIPINE', 'ISTALOL', 'ITRACONAZOLE', 'IXEMPRA', 'JAKAFI', 'JALYN', 'JANTOVEN', 'JANUMET', 'JANUMET XR', 'JANUVIA', 'JENTADUETO', 'JEVTANA', 'JINTELI', 'JOLESSA', 'JOLIVETTE', 'JUNEL', 'JUNEL FE', 'JUVISYNC', 'JUXTAPID', 'K EFFERVESCENT', 'K-PHOS ORIGINAL', 'K-TAB ER', 'KADCYLA', 'KADIAN', 'KALBITOR', 'KALETRA', 'KALYDECO', 'KAPVAY', 'KARIVA', 'KEFLEX', 'KELNOR 1-35', 'KENALOG', 'KENALOG-40', 'KEPPRA', 'KEPPRA XR', 'KETOCONAZOLE', 'KETOPROFEN', 'KETOROLAC TROMETHAMINE', 'KINERET', 'KIONEX', 'KLONOPIN', 'KLOR-CON', 'KLOR-CON 10', 'KLOR-CON 8', 'KLOR-CON M10', 'KLOR-CON M15', 'KLOR-CON M20', 'KLOR-CON-EF', 'KOMBIGLYZE XR', 'KORLYM', 'KRISTALOSE', 'KRYSTEXXA', 'KUVAN', 'L-MEFOLATE-PYRIDOX-MECOBALAMIN', 'L-METHYL-B6-B12', 'L-METHYL-MC', 'L-METHYLFOLATE', 'L-METHYLFOLATE CALCIUM', 'L-METHYLFOLATE-MECOBALAMIN-NAC', 'LABETALOL HCL', 'LACLOTION', 'LACRISERT', 'LACTATED RINGERS', 'LACTULOSE', 'LAMICTAL', 'LAMICTAL ODT', 'LAMICTAL XR', 'LAMIVUDINE', 'LAMIVUDINE-ZIDOVUDINE', 'LAMOTRIGINE', 'LAMOTRIGINE ER', 'LANOXIN', 'LANSOPRAZOL-AMOXICIL-CLARITHRO', 'LANSOPRAZOLE', 'LANTUS', 'LANTUS SOLOSTAR', 'LASIX', 'LASTACAFT', 'LATANOPROST', 'LATUDA', 'LEFLUNOMIDE', 'LESCOL', 'LESCOL XL', 'LESSINA', 'LETAIRIS', 'LETROZOLE', 'LEUCOVORIN CALCIUM', 'LEUKERAN', 'LEUKINE', 'LEUPROLIDE ACETATE', 'LEVALBUTEROL CONCENTRATE', 'LEVALBUTEROL HCL', 'LEVAQUIN', 'LEVATOL', 'LEVEMIR', 'LEVEMIR FLEXPEN', 'LEVETIRACETAM', 'LEVITRA', 'LEVOBUNOLOL HCL', 'LEVOCARNITINE', 'LEVOCETIRIZINE DIHYDROCHLORIDE', 'LEVOFLOXACIN', 'LEVOFLOXACIN-D5W', 'LEVONEST', 'LEVORA-28', 'LEVORPHANOL TARTRATE', 'LEVOTHROID', 'LEVOTHYROXINE SODIUM', 'LEVOXYL', 'LEXAPRO', 'LEXIVA', 'LIALDA', 'LIDOCAINE', 'LIDOCAINE HCL', 'LIDOCAINE HCL VISCOUS', 'LIDOCAINE-HYDROCORTISONE', 'LIDOCAINE-PRILOCAINE', 'LIDODERM', 'LINDANE', 'LINZESS', 'LIORESAL INTRATHECAL', 'LIOTHYRONINE SODIUM', 'LIPITOR', 'LIPOFEN', 'LIPTRUZET', 'LISINOPRIL', 'LISINOPRIL-HYDROCHLOROTHIAZIDE', 'LITE TOUCH', 'LITHIUM', 'LITHIUM CARBONATE', 'LITHOBID', 'LITHOSTAT', 'LIVALO', 'LO LOESTRIN FE', 'LODOSYN', 'LOESTRIN', 'LOESTRIN 24 FE', 'LOESTRIN FE', 'LOFIBRA', 'LOMOTIL', 'LOPERAMIDE', 'LOPRESSOR', 'LOPRESSOR HCT', 'LORAZEPAM', 'LORAZEPAM INTENSOL', 'LORCET 10-650', 'LORCET PLUS', 'LORTAB', 'LORYNA', 'LORZONE', 'LOSARTAN POTASSIUM', 'LOSARTAN-HYDROCHLOROTHIAZIDE', 'LOTEMAX', 'LOTENSIN', 'LOTENSIN HCT', 'LOTREL', 'LOTRISONE', 'LOTRONEX', 'LOVASTATIN', 'LOVAZA', 'LOVENOX', 'LOW-OGESTREL', 'LOXAPINE', 'LOXITANE', 'LUDENT FLUORIDE', 'LUER-LOK SYRINGE', 'LUMIGAN', 'LUMIZYME', 'LUNESTA', 'LUPRON DEPOT', 'LUPRON DEPOT-PED', 'LUTERA', 'LUVOX CR', 'LUXIQ', 'LYRICA', 'LYSODREN', 'LYSTEDA', 'M-M-R II VACCINE', 'MACRODANTIN', 'MAGNACET', 'MAGNESIUM SULFATE', 'MALATHION', 'MAPROTILINE HCL', 'MARCAINE', 'MARINOL', 'MARLISSA', 'MARPLAN', 'MATULANE', 'MATZIM LA', 'MAVIK', 'MAXAIR AUTOHALER', 'MAXALT', 'MAXALT MLT', 'MAXIDEX', 'MAXIPIME', 'MAXZIDE', 'MAXZIDE-25 MG', 'MECLIZINE HCL', 'MECLOFENAMATE SODIUM', 'MEDROL', 'MEDROXYPROGESTERONE ACETATE', 'MEFENAMIC ACID', 'MEFLOQUINE HCL', 'MEGACE ES', 'MEGESTROL ACETATE', 'MEKINIST', 'MELOXICAM', 'MENACTRA', 'MENEST', 'MENOMUNE-A-C-Y-W-135', 'MENOSTAR', 'MENTAX', 'MEPERIDINE HCL', 'MEPERITAB', 'MEPHYTON', 'MEPROBAMATE', 'MEPRON', 'MERCAPTOPURINE', 'MEROPENEM', 'MERREM', 'MESALAMINE', 'MESNA', 'MESNEX', 'MESTINON', 'METADATE CD', 'METADATE ER', 'METAFOLBIC PLUS', 'METANX', 'METAPROTERENOL SULFATE', 'METAXALONE', 'METFORMIN HCL', 'METFORMIN HCL ER', 'METHADONE HCL', 'METHADONE INTENSOL', 'METHADOSE', 'METHAMPHETAMINE HCL', 'METHAZOLAMIDE', 'METHENAMINE HIPPURATE', 'METHENAMINE MANDELATE', 'METHIMAZOLE', 'METHITEST', 'METHOCARBAMOL', 'METHOTREXATE', 'METHOTREXATE SODIUM', 'METHSCOPOLAMINE BROMIDE', 'METHYCLOTHIAZIDE', 'METHYLDOPA', 'METHYLDOPA-HYDROCHLOROTHIAZIDE', 'METHYLENE BLUE', 'METHYLERGONOVINE MALEATE', 'METHYLPHENIDATE ER', 'METHYLPHENIDATE HCL', 'METHYLPHENIDATE HCL CD', 'METHYLPHENIDATE LA', 'METHYLPHENIDATE SR', 'METHYLPREDNISOLONE', 'METHYLPREDNISOLONE ACETATE', 'METHYLPREDNISOLONE SOD SUCC', 'METIPRANOLOL', 'METOCLOPRAMIDE HCL', 'METOLAZONE', 'METOPROLOL SUCCINATE', 'METOPROLOL TARTRATE', 'METOPROLOL-HYDROCHLOROTHIAZIDE', 'METOZOLV ODT', 'METROCREAM', 'METROGEL', 'METRONIDAZOLE', 'MEVACOR', 'MEXILETINE HCL', 'MIACALCIN', 'MICARDIS', 'MICARDIS HCT', 'MICRO-K', 'MICROGESTIN', 'MICROGESTIN FE', 'MICROZIDE', 'MIDAZOLAM HCL', 'MIDODRINE HCL', 'MIGERGOT', 'MIGRANAL', 'MILLIPRED', 'MILRINONE IN 5% DEXTROSE', 'MILRINONE LACTATE', 'MIMVEY', 'MINI ULTRA-THIN II', 'MINITRAN', 'MINIVELLE', 'MINOCIN', 'MINOCYCLINE HCL', 'MINOXIDIL', 'MIRAPEX', 'MIRAPEX ER', 'MIRCETTE', 'MIRTAZAPINE', 'MISOPROSTOL', 'MOBIC', 'MODAFINIL', 'MOEXIPRIL HCL', 'MOEXIPRIL-HYDROCHLOROTHIAZIDE', 'MOMETASONE FUROATE', 'MONO-LINYAH', 'MONOJECT INSULIN SAFETY SYRNG', 'MONOJECT INSULIN SYRINGE', 'MONONESSA', 'MONTELUKAST SODIUM', 'MONUROL', 'MORPHINE SULFATE', 'MORPHINE SULFATE ER', 'MOTOFEN', 'MOVIPREP', 'MOXATAG', 'MOXEZA', 'MS CONTIN', 'MULTAQ', 'MULTIGEN', 'MULTIGEN PLUS', 'MULTIVITAMINS W-FLUORIDE-IRON', 'MULTIVITAMINS WITH FLUORIDE', 'MUPIROCIN', 'MYAMBUTOL', 'MYCAMINE', 'MYCOBUTIN', 'MYCOPHENOLATE MOFETIL', 'MYFORTIC', 'MYRBETRIQ', 'MYSOLINE', 'MYZILRA', 'NABI-HB', 'NABUMETONE', 'NADOLOL', 'NADOLOL-BENDROFLUMETHIAZIDE', 'NAFCILLIN', 'NAFCILLIN SODIUM', 'NAFTIN', 'NAGLAZYME', 'NALBUPHINE HCL', 'NALOXONE HCL', 'NALTREXONE HCL', 'NAMENDA', 'NAMENDA XR', 'NAPHAZOLINE HCL', 'NAPRELAN', 'NAPROSYN', 'NAPROXEN', 'NAPROXEN SODIUM', 'NARATRIPTAN HCL', 'NARDIL', 'NASACORT AQ', 'NASCOBAL', 'NASONEX', 'NATAZIA', 'NATEGLINIDE', 'NECON', 'NEFAZODONE HCL', 'NEOMYCIN SULFATE', 'NEOMYCIN-BACITRACIN-POLYMYXIN', 'NEOMYCIN-POLYMYXIN B', 'NEOMYCIN-POLYMYXIN-DEXAMETH', 'NEOMYCIN-POLYMYXIN-GRAMICIDIN', 'NEOMYCIN-POLYMYXIN-HC', 'NEOMYCIN-POLYMYXIN-HYDROCORT', 'NEORAL', 'NEPHPLEX RX', 'NEPHRO-VITE RX', 'NEPHROCAPS', 'NEPHROCAPS QT', 'NEPHRON FA', 'NEULASTA', 'NEUPOGEN', 'NEUPRO', 'NEURONTIN', 'NEVANAC', 'NEVIRAPINE', 'NEXAVAR', 'NEXIUM', 'NEXIUM I.V.', 'NIACIN ER', 'NIACOR', 'NIASPAN', 'NICARDIPINE HCL', 'NICOTROL', 'NICOTROL NS', 'NIFEDIAC CC', 'NIFEDICAL XL', 'NIFEDIPINE', 'NIFEDIPINE ER', 'NILANDRON', 'NIMODIPINE', 'NIRAVAM', 'NISOLDIPINE', 'NITRO-BID', 'NITRO-DUR', 'NITROFURANTOIN', 'NITROFURANTOIN MONO-MACRO', 'NITROGLYCERIN', 'NITROGLYCERIN PATCH', 'NITROLINGUAL', 'NITROMIST', 'NITROSTAT', 'NIZATIDINE', 'NOR-Q-D', 'NORA-BE', 'NORCO', 'NORDITROPIN FLEXPRO', 'NORDITROPIN NORDIFLEX', 'NORETHINDRONE', 'NORETHINDRONE ACETATE', 'NORGESTIMATE-ETHINYL ESTRADIOL', 'NORINYL 1+50', 'NORITATE', 'NOROXIN', 'NORPACE CR', 'NORPRAMIN', 'NORTREL', 'NORTRIPTYLINE HCL', 'NORVASC', 'NORVIR', 'NOVAREL', 'NOVOFINE', 'NOVOFINE 32', 'NOVOFINE AUTOCOVER', 'NOVOLIN 70-30', 'NOVOLIN N', 'NOVOLIN R', 'NOVOLOG', 'NOVOLOG FLEXPEN', 'NOVOLOG MIX 70-30', 'NOVOLOG MIX 70-30 FLEXPEN', 'NOVOTWIST', 'NOXAFIL', 'NP THYROID', 'NPLATE', 'NUCYNTA', 'NUCYNTA ER', 'NUEDEXTA', 'NULOJIX', 'NULYTELY WITH FLAVOR PACKS', 'NUTROPIN AQ', 'NUTROPIN AQ NUSPIN', 'NUVARING', 'NUVIGIL', 'NYAMYC', 'NYSTATIN', 'NYSTATIN-TRIAMCINOLONE', 'NYSTOP', 'OB COMPLETE ONE', 'OCELLA', 'OCTAGAM', 'OCTREOTIDE ACETATE', 'OFLOXACIN', 'OGESTREL', 'OLANZAPINE', 'OLANZAPINE ODT', 'OLANZAPINE-FLUOXETINE HCL', 'OLEPTRO ER', 'OMECLAMOX-PAK', 'OMEPRAZOLE', 'OMEPRAZOLE-SODIUM BICARBONATE', 'OMNARIS', 'OMNITROPE', 'ONDANSETRON HCL', 'ONDANSETRON ODT', 'ONFI', 'ONGLYZA', 'OPANA ER', 'OPIUM TINCTURE', 'ORACEA', 'ORACIT', 'ORAP', 'ORENCIA', 'ORPHENADRINE CITRATE', 'ORSYTHIA', 'ORTHO EVRA', 'ORTHO TRI-CYCLEN', 'ORTHO TRI-CYCLEN LO', 'ORTHO-CEPT', 'ORTHO-CYCLEN', 'ORTHO-NOVUM', 'OSENI', 'OSMOPREP', 'OXACILLIN', 'OXACILLIN SODIUM', 'OXALIPLATIN', 'OXANDROLONE', 'OXAPROZIN', 'OXAZEPAM', 'OXCARBAZEPINE', 'OXECTA', 'OXISTAT', 'OXSORALEN-ULTRA', 'OXYBUTYNIN CHLORIDE', 'OXYBUTYNIN CHLORIDE ER', 'OXYCODONE CONCENTRATE', 'OXYCODONE HCL', 'OXYCODONE HCL-ACETAMINOPHEN', 'OXYCODONE HCL-ASPIRIN', 'OXYCODONE HCL-IBUPROFEN', 'OXYCODONE-ACETAMINOPHEN', 'OXYCONTIN', 'OXYMORPHONE HCL', 'OXYMORPHONE HCL ER', 'OXYTOCIN', 'OXYTROL', 'PACERONE', 'PACLITAXEL', 'PAMELOR', 'PAMIDRONATE DISODIUM', 'PANCREAZE', 'PANCRELIPASE 5,000', 'PANTOPRAZOLE SODIUM', 'PAPAVERINE HCL', 'PARAFON FORTE DSC', 'PARCOPA', 'PAREGORIC', 'PARICALCITOL', 'PARNATE', 'PAROMOMYCIN SULFATE', 'PAROXETINE HCL', 'PATADAY', 'PATANASE', 'PATANOL', 'PAXIL', 'PAXIL CR', 'PEDI-DRI', 'PEG 3350-ELECTROLYTE', 'PEG-3350', 'PEG-3350 AND ELECTROLYTES', 'PEG-3350 WITH FLAVOR PACKS', 'PEGANONE', 'PEGASYS', 'PEGASYS PROCLICK', 'PEGINTRON', 'PEGINTRON REDIPEN', 'PEN NEEDLE', 'PEN NEEDLES', 'PENICILLIN G POTASSIUM', 'PENICILLIN G SODIUM', 'PENICILLIN GK-ISO-OSM DEXTROSE', 'PENICILLIN V POTASSIUM', 'PENNSAID', 'PENTAM 300', 'PENTASA', 'PENTAZOCINE-ACETAMINOPHEN', 'PENTAZOCINE-NALOXONE HCL', 'PENTOXIFYLLINE', 'PEPCID', 'PERCOCET', 'PERFOROMIST', 'PERINDOPRIL ERBUMINE', 'PERIOGARD', 'PERJETA', 'PERMETHRIN', 'PERPHENAZINE', 'PERPHENAZINE-AMITRIPTYLINE', 'PERSANTINE', 'PERTZYE', 'PEXEVA', 'PFIZERPEN', 'PHENADOZ', 'PHENAZOPYRIDINE HCL', 'PHENDIMETRAZINE TARTRATE', 'PHENELZINE SULFATE', 'PHENOBARBITAL', 'PHENTERMINE HCL', 'PHENTOLAMINE MESYLATE', 'PHENYTEK', 'PHENYTOIN', 'PHENYTOIN SODIUM', 'PHENYTOIN SODIUM EXTENDED', 'PHILITH', 'PHISOHEX', 'PHOSLO', 'PHOSLYRA', 'PHOSPHA 250 NEUTRAL', 'PHOSPHOLINE IODIDE', 'PHRENILIN FORTE', 'PICATO', 'PILOCARPINE HCL', 'PINDOLOL', 'PIOGLITAZONE HCL', 'PIOGLITAZONE-GLIMEPIRIDE', 'PIOGLITAZONE-METFORMIN', 'PIPERACILLIN-TAZOBACTAM', 'PIROXICAM', 'PLAQUENIL', 'PLASMA-LYTE A PH 7.4', 'PLAVIX', 'PLETAL', 'PNV-SELECT', 'PODOFILOX', 'POLY-IRON 150 FORTE', 'POLYETHYLENE GLYCOL 3350', 'POLYMYXIN B SUL-TRIMETHOPRIM', 'POLYMYXIN B SULFATE', 'POMALYST', 'PORTIA', 'POTASSIUM ACETATE', 'POTASSIUM BICARBONATE', 'POTASSIUM CHL-NORMAL SALINE', 'POTASSIUM CHLORIDE', 'POTASSIUM CHLORIDE-NACL', 'POTASSIUM CITRATE', 'POTIGA', 'PRADAXA', 'PRAMIPEXOLE DIHYDROCHLORIDE', 'PRAMOSONE', 'PRANDIMET', 'PRANDIN', 'PRAVACHOL', 'PRAVASTATIN SODIUM', 'PRAZOSIN HCL', 'PRECISION', 'PRECOSE', 'PRED FORTE', 'PRED MILD', 'PREDNICARBATE', 'PREDNISOLONE', 'PREDNISOLONE ACETATE', 'PREDNISOLONE SODIUM PHOSPHATE', 'PREDNISONE', 'PREFEST', 'PREMARIN', 'PREMPHASE', 'PREMPRO', 'PRENATABS FA', 'PRENATAL PLUS', 'PREPOPIK', 'PREQUE 10', 'PREVACID', 'PREVALITE', 'PREVIDENT', 'PREVIDENT 5000', 'PREVIDENT 5000 ENAMEL PROTECT', 'PREVIDENT 5000 PLUS', 'PREVIDENT 5000 SENSITIVE', 'PREVIFEM', 'PREVPAC', 'PREZISTA', 'PRIFTIN', 'PRILOSEC', 'PRIMAXIN', 'PRIMIDONE', 'PRINIVIL', 'PRISTIQ ER', 'PRIVIGEN', 'PROAIR HFA', 'PROBENECID', 'PROBENECID-COLCHICINE', 'PROCARDIA', 'PROCARDIA XL', 'PROCHLORPERAZINE EDISYLATE', 'PROCHLORPERAZINE MALEATE', 'PROCRIT', 'PROCTO-PAK', 'PROCTOCORT', 'PROCTOFOAM-HC', 'PROCTOSOL-HC', 'PROCTOZONE-HC', 'PRODIGY INSULIN SYRINGE', 'PRODIGY PEN NEEDLE', 'PROGESTERONE', 'PROGLYCEM', 'PROGRAF', 'PROLASTIN C', 'PROLENSA', 'PROLEUKIN', 'PROLIA', 'PROMACTA', 'PROMETHAZINE HCL', 'PROMETHAZINE VC', 'PROMETHAZINE VC-CODEINE', 'PROMETHAZINE-CODEINE', 'PROMETHAZINE-DM', 'PROMETHEGAN', 'PROMETRIUM', 'PROPAFENONE HCL', 'PROPANTHELINE BROMIDE', 'PROPRANOLOL HCL', 'PROPRANOLOL-HYDROCHLOROTHIAZID', 'PROPYLTHIOURACIL', 'PROSCAR', 'PROSOL', 'PROSTIGMIN', 'PROTONIX', 'PROTONIX IV', 'PROTOPIC', 'PROTRIPTYLINE HCL', 'PROVENTIL HFA', 'PROVERA', 'PROVIGIL', 'PROZAC', 'PROZAC WEEKLY', 'PRUDOXIN', 'PULMICORT', 'PULMICORT FLEXHALER', 'PULMOZYME', 'PYLERA', 'PYRAZINAMIDE', 'PYRIDOSTIGMINE BROMIDE', 'QNASL', 'QSYMIA', 'QUALAQUIN', 'QUESTRAN', 'QUESTRAN LIGHT', 'QUETIAPINE FUMARATE', 'QUILLIVANT XR', 'QUINAPRIL HCL', 'QUINAPRIL-HYDROCHLOROTHIAZIDE', 'QUINIDINE GLUCONATE', 'QUINIDINE SULFATE', 'QUININE SULFATE', 'QVAR', 'RABEPRAZOLE SODIUM', 'RAMIPRIL', 'RANEXA', 'RANITIDINE HCL', 'RAPAFLO', 'RAPAMUNE', 'RAYOS', 'RAZADYNE', 'RAZADYNE ER', 'REBIF', 'REBIF REBIDOSE', 'RECLAST', 'RECLIPSEN', 'RECTIV', 'REGLAN', 'REGRANEX', 'RELISTOR', 'RELPAX', 'REMERON', 'REMEVEN', 'REMICADE', 'REMODULIN', 'RENA-VITE RX', 'RENACIDIN', 'RENAGEL', 'RENAL CAPS', 'RENO CAPS', 'RENVELA', 'REPAGLINIDE', 'REPREXAIN', 'REQUIP', 'REQUIP XL', 'RESCRIPTOR', 'RESCULA', 'RESTASIS', 'RESTORIL', 'RETIN-A', 'RETIN-A MICRO', 'RETROVIR', 'REVATIO', 'REVLIMID', 'REYATAZ', 'RHEUMATREX', 'RHINOCORT AQUA', 'RIBAPAK', 'RIBASPHERE', 'RIBAVIRIN', 'RIDAURA', 'RIFAMPIN', 'RILUTEK', 'RILUZOLE', 'RIMANTADINE HCL', 'RIMSO-50', 'RIOMET', 'RISPERDAL', 'RISPERDAL CONSTA', 'RISPERDAL M-TAB', 'RISPERIDONE', 'RISPERIDONE ODT', 'RITALIN', 'RITALIN LA', 'RITALIN-SR', 'RITUXAN', 'RIVASTIGMINE', 'RIZATRIPTAN', 'ROBAXIN-750', 'ROBINUL', 'ROBINUL FORTE', 'ROCALTROL', 'ROPINIROLE HCL', 'ROSADAN', 'ROWASA', 'ROXICET', 'ROXICODONE', 'ROZEREM', 'RYBIX ODT', 'RYTHMOL', 'RYTHMOL SR', 'SABRIL', 'SAFETYGLIDE INSULIN SYRINGE', 'SAFYRAL', 'SAIZEN', 'SALAGEN', 'SALICYLIC ACID', 'SALSALATE', 'SAMSCA', 'SANCTURA', 'SANCTURA XR', 'SANCUSO', 'SANDIMMUNE', 'SANDOSTATIN', 'SANDOSTATIN LAR', 'SANTYL', 'SAPHRIS', 'SARAFEM', 'SAVELLA', 'SE-NATAL 19', 'SE-TAN DHA', 'SE-TAN PLUS', 'SECTRAL', 'SELEGILINE HCL', 'SELENIUM SULFIDE', 'SELZENTRY', 'SEMPREX-D', 'SENSIPAR', 'SEREVENT DISKUS', 'SEROQUEL', 'SEROQUEL XR', 'SEROSTIM', 'SERTRALINE HCL', 'SF', 'SF 5000 PLUS', 'SILDENAFIL', 'SILENOR', 'SILVADENE', 'SILVER NITRATE', 'SILVER SULFADIAZINE', 'SIMBRINZA', 'SIMCOR', 'SIMPONI', 'SIMVASTATIN', 'SINEMET 10-100', 'SINEMET 25-100', 'SINEMET 25-250', 'SINEMET CR', 'SINGLE USE SWAB', 'SINGULAIR', 'SKELAXIN', 'SODIUM ACETATE', 'SODIUM BICARBONATE', 'SODIUM CHLORIDE', 'SODIUM CITRATE & CITRIC ACID', 'SODIUM FLUORIDE', 'SODIUM PHOSPHATE', 'SODIUM POLYSTYRENE SULFONATE', 'SOLARAZE', 'SOLIRIS', 'SOLODYN', 'SOLU-CORTEF', 'SOLU-MEDROL', 'SOMA', 'SOMATULINE DEPOT', 'SOMAVERT', 'SOMNOTE', 'SONATA', 'SORIATANE', 'SORINE', 'SOTALOL', 'SOTALOL AF', 'SOVALDI', 'SPIRIVA', 'SPIRONOLACTONE', 'SPIRONOLACTONE-HCTZ', 'SPORANOX', 'SPRINTEC', 'SPRIX', 'SPRYCEL', 'SPS', 'SRONYX', 'SSD', 'SSKI', 'STAGESIC', 'STALEVO 100', 'STALEVO 125', 'STALEVO 150', 'STALEVO 200', 'STALEVO 50', 'STALEVO 75', 'STANNOUS FLUORIDE', 'STARLIX', 'STAVUDINE', 'STAVZOR', 'STAXYN', 'STELARA', 'STERI-PAD', 'STERILE PADS', 'STIMATE', 'STIVARGA', 'STRATTERA', 'STREPTOMYCIN SULFATE', 'STRIANT', 'STRIBILD', 'STROMECTOL', 'STROVITE ONE', 'STROVITE PLUS', 'SUBLIMAZE', 'SUBOXONE', 'SUBSYS', 'SUCLEAR', 'SUCRALFATE', 'SULAR', 'SULFACETAMIDE SODIUM', 'SULFACETAMIDE-PREDNISOLONE', 'SULFADIAZINE', 'SULFAMETHOXAZOLE-TRIMETHOPRIM', 'SULFAMYLON', 'SULFASALAZINE', 'SULFASALAZINE DR', 'SULFAZINE', 'SULFAZINE EC', 'SULINDAC', 'SUMATRIPTAN', 'SUMATRIPTAN SUCCINATE', 'SUMAVEL DOSEPRO', 'SUPRAX', 'SUPREP', 'SURE COMFORT', 'SURE COMFORT ALCOHOL', 'SURE-FINE PEN NEEDLES', 'SURE-JECT INSULIN SYRINGE', 'SURE-PREP ALCOHOL PREP PADS', 'SURMONTIL', 'SUSTIVA', 'SUTENT', 'SYEDA', 'SYLATRON', 'SYLATRON 4-PACK', 'SYMBICORT', 'SYMBYAX', 'SYMLINPEN 120', 'SYMLINPEN 60', 'SYNAREL', 'SYNERA', 'SYNRIBO', 'SYNTHROID', 'SYPRINE', 'TABLOID', 'TACLONEX', 'TACROLIMUS', 'TAFINLAR', 'TALWIN', 'TAMIFLU', 'TAMOXIFEN CITRATE', 'TAMSULOSIN HCL', 'TANDEM PLUS', 'TAPAZOLE', 'TARCEVA', 'TARGRETIN', 'TARKA', 'TARON FORTE', 'TASIGNA', 'TASMAR', 'TAZICEF', 'TAZORAC', 'TAZTIA XT', 'TECFIDERA', 'TEFLARO', 'TEGRETOL', 'TEGRETOL XR', 'TEKAMLO', 'TEKTURNA', 'TEKTURNA HCT', 'TEMAZEPAM', 'TENIVAC', 'TENORETIC 100', 'TENORETIC 50', 'TENORMIN', 'TERAZOSIN HCL', 'TERBINAFINE HCL', 'TERBUTALINE SULFATE', 'TERCONAZOLE', 'TERUMO INSULIN SYRINGE', 'TESTIM', 'TESTOPEL', 'TESTOSTERONE CYPIONATE', 'TESTOSTERONE ENANTHATE', 'TESTRED', 'TETANUS DIPHTHERIA TOXOIDS', 'TETANUS TOXOID ADSORBED', 'TETANUS-DIPHTERIA-DECAVAC', 'TETRACYCLINE HCL', 'TEV-TROPIN', 'TEVETEN', 'TEVETEN HCT', 'THALOMID', 'THEO-24', 'THEOPHYLLINE', 'THEOPHYLLINE ANHYDROUS', 'THERMAZENE', 'THINPRO INSULIN SYRINGE', 'THIOLA', 'THIORIDAZINE HCL', 'THIOTHIXENE', 'THYROLAR-1/2', 'TIAGABINE HCL', 'TIAZAC', 'TICLOPIDINE HCL', 'TIGAN', 'TIKOSYN', 'TILIA FE', 'TIMENTIN', 'TIMOLOL MALEATE', 'TIMOPTIC', 'TIMOPTIC OCUDOSE', 'TINIDAZOLE', 'TIROSINT', 'TIVICAY', 'TIZANIDINE HCL', 'TL G-FOL OS', 'TL-HEM 150', 'TOBI', 'TOBI PODHALER', 'TOBRADEX', 'TOBRADEX ST', 'TOBRAMYCIN', 'TOBRAMYCIN SULFATE', 'TOBRAMYCIN-DEXAMETHASONE', 'TOBREX', 'TOFRANIL', 'TOFRANIL-PM', 'TOLAZAMIDE', 'TOLBUTAMIDE', 'TOLMETIN SODIUM', 'TOLTERODINE TARTRATE', 'TOPAMAX', 'TOPCARE CLICKFINE', 'TOPCARE ULTRA COMFORT', 'TOPICORT', 'TOPIRAMATE', 'TOPROL XL', 'TORSEMIDE', 'TOVIAZ', 'TRACLEER', 'TRADJENTA', 'TRAMADOL HCL', 'TRAMADOL HCL ER', 'TRAMADOL HCL-ACETAMINOPHEN', 'TRANDOLAPRIL', 'TRANEXAMIC ACID', 'TRANSDERM-SCOP', 'TRANXENE T-TAB', 'TRANYLCYPROMINE SULFATE', 'TRAVASOL', 'TRAVATAN Z', 'TRAVOPROST', 'TRAZODONE HCL', 'TREANDA', 'TRELSTAR', 'TRETINOIN', 'TREXALL', 'TREXIMET', 'TREZIX', 'TRI-ESTARYLLA', 'TRI-LEGEST FE', 'TRI-LINYAH', 'TRI-PREVIFEM', 'TRI-SPRINTEC', 'TRIADVANCE', 'TRIAMCINOLONE ACETONIDE', 'TRIAMTERENE-HCTZ', 'TRIAMTERENE-HYDROCHLOROTHIAZID', 'TRIANEX', 'TRIAZOLAM', 'TRIBENZOR', 'TRICARE', 'TRICITRATES', 'TRICOR', 'TRIFLUOPERAZINE HCL', 'TRIFLURIDINE', 'TRIGLIDE', 'TRIHEXYPHENIDYL HCL', 'TRILEPTAL', 'TRILIPIX', 'TRILYTE WITH FLAVOR PACKETS', 'TRIMETHOBENZAMIDE HCL', 'TRIMETHOPRIM', 'TRIMIPRAMINE MALEATE', 'TRINESSA', 'TRIPHROCAPS', 'TRIVORA-28', 'TRIZIVIR', 'TROPICAMIDE', 'TROSPIUM CHLORIDE', 'TROSPIUM CHLORIDE ER', 'TRUEPLUS INSULIN SYRINGE', 'TRUVADA', 'TUDORZA PRESSAIR', 'TUSSIONEX', 'TWINRIX', 'TWYNSTA', 'TYGACIL', 'TYKERB', 'TYLENOL-CODEINE NO.3', 'TYLENOL-CODEINE NO.4', 'TYPHIM VI', 'TYSABRI', 'TYVASO', 'TYZEKA', 'UCERIS', 'ULORIC', 'ULTICARE', 'ULTILET INSULIN SYRINGE', 'ULTRA COMFORT', 'ULTRA-THIN II', 'ULTRACET', 'ULTRAM', 'ULTRAM ER', 'UNASYN', 'UNIFINE PENTIPS', 'UNIFINE PENTIPS PLUS', 'UNIRETIC', 'UNITHROID', 'UNIVASC', 'UREA', 'URIBEL', 'UROCIT-K', 'UROXATRAL', 'URSO', 'URSO FORTE', 'URSODIOL', 'USTELL', 'V-C FORTE', 'VAGIFEM', 'VALACYCLOVIR', 'VALCYTE', 'VALIUM', 'VALPROATE SODIUM', 'VALPROIC ACID', 'VALSARTAN-HYDROCHLOROTHIAZIDE', 'VALTREX', 'VANCOCIN HCL', 'VANCOMYCIN', 'VANCOMYCIN HCL', 'VANCOMYCIN-D5W', 'VANDAZOLE', 'VANISHPOINT', 'VANOS', 'VAQTA', 'VASCEPA', 'VASCULERA', 'VASOTEC', 'VAYACOG', 'VECTIBIX', 'VECTICAL', 'VELCADE', 'VELIVET', 'VENLAFAXINE HCL', 'VENLAFAXINE HCL ER', 'VENOFER', 'VENTAVIS', 'VENTOLIN HFA', 'VERAMYST', 'VERAPAMIL ER', 'VERAPAMIL ER PM', 'VERAPAMIL HCL', 'VERELAN', 'VERELAN PM', 'VESICARE', 'VFEND', 'VFEND IV', 'VGO 20', 'VGO 30', 'VGO 40', 'VIAGRA', 'VIBRAMYCIN', 'VICODIN', 'VICODIN ES', 'VICODIN HP', 'VICOPROFEN', 'VICTOZA 2-PAK', 'VICTOZA 3-PAK', 'VICTRELIS', 'VIDAZA', 'VIDEX', 'VIGAMOX', 'VIIBRYD', 'VIMOVO', 'VIMPAT', 'VINCASAR PFS', 'VINCRISTINE SULFATE', 'VINORELBINE TARTRATE', 'VIOKACE', 'VIORELE', 'VIRACEPT', 'VIRAMUNE', 'VIRAMUNE XR', 'VIREAD', 'VIRT-PN DHA', 'VIRT-VITE FORTE', 'VISTARIL', 'VITACIRC-B', 'VITAL-D RX', 'VITAMIN D2', 'VIVELLE-DOT', 'VIVITROL', 'VOL-CARE RX', 'VOL-NATE', 'VOL-PLUS', 'VOLTAREN', 'VOLTAREN-XR', 'VORICONAZOLE', 'VOTRIENT', 'VPRIV', 'VSL#3 DS', 'VUSION', 'VYTORIN', 'VYVANSE', 'WARFARIN SODIUM', 'WATER', 'WEBCOL', 'WELCHOL', 'WELLBUTRIN', 'WELLBUTRIN SR', 'WELLBUTRIN XL', 'WERA', 'X-VIATE', 'XALATAN', 'XALKORI', 'XANAX', 'XANAX XR', 'XARELTO', 'XELJANZ', 'XENAZINE', 'XENICAL', 'XERESE', 'XGEVA', 'XIFAXAN', 'XODOL 10-300', 'XOLAIR', 'XOPENEX', 'XOPENEX CONCENTRATE', 'XOPENEX HFA', 'XTANDI', 'XYLOCAINE-MPF', 'XYREM', 'XYZAL', 'YASMIN 28', 'YAZ', 'YERVOY', 'YF-VAX', 'ZAFIRLUKAST', 'ZALEPLON', 'ZALTRAP', 'ZANAFLEX', 'ZANTAC', 'ZARAH', 'ZARONTIN', 'ZATEAN-PN', 'ZAVESCA', 'ZEGERID', 'ZELAPAR', 'ZELBORAF', 'ZEMAIRA', 'ZEMPLAR', 'ZENCHENT', 'ZENCHENT FE', 'ZENPEP', 'ZERIT', 'ZESTORETIC', 'ZESTRIL', 'ZETIA', 'ZETONNA', 'ZIAC', 'ZIAGEN', 'ZIDOVUDINE', 'ZINC SULFATE', 'ZIOPTAN', 'ZIPRASIDONE HCL', 'ZIPSOR', 'ZIRGAN', 'ZITHROMAX', 'ZOCOR', 'ZOFRAN', 'ZOFRAN ODT', 'ZOLADEX', 'ZOLEDRONIC ACID', 'ZOLINZA', 'ZOLMITRIPTAN', 'ZOLMITRIPTAN ODT', 'ZOLOFT', 'ZOLPIDEM TARTRATE', 'ZOLPIDEM TARTRATE ER', 'ZOLPIMIST', 'ZOMETA', 'ZOMIG', 'ZOMIG ZMT', 'ZONALON', 'ZONEGRAN', 'ZONISAMIDE', 'ZORTRESS', 'ZOSTAVAX', 'ZOSYN', 'ZOVIA 1-35E', 'ZOVIA 1-50E', 'ZOVIRAX', 'ZUBSOLV', 'ZYCLARA', 'ZYFLO', 'ZYFLO CR', 'ZYLET', 'ZYLOPRIM', 'ZYMAXID', 'ZYPREXA', 'ZYPREXA RELPREVV', 'ZYPREXA ZYDIS', 'ZYTIGA', 'ZYVOX', 'brand_name_rx_count', 'generic_rx_count', 'specialty-Acute Care', 'specialty-Addiction (Substance Use Disorder)', 'specialty-Addiction Medicine', 'specialty-Addiction Psychiatry', 'specialty-Administrator', 'specialty-Adolescent Medicine', 'specialty-Adolescent and Children Mental Health', 'specialty-Adult Development & Aging', 'specialty-Adult Health', 'specialty-Adult Medicine', 'specialty-Adult Mental Health', 'specialty-Adult Reconstructive Orthopaedic Surgery', 'specialty-Aerospace Medicine', 'specialty-Allergy', 'specialty-Allergy & Immunology', 'specialty-Ambulatory Care', 'specialty-Ambulatory Surgical', 'specialty-Anatomic Pathology', 'specialty-Anatomic Pathology & Clinical Pathology', 'specialty-Assistive Technology Practitioner', 'specialty-Athletic Trainer', 'specialty-Behavioral Neurology & Neuropsychiatry', 'specialty-Blood Banking & Transfusion Medicine', 'specialty-Body Imaging', 'specialty-Cardiac Rehabilitation', 'specialty-Cardiovascular Disease', 'specialty-Cardiovascular Invasive Specialist', 'specialty-Cardiovascular-Interventional Technology', 'specialty-Case Management', 'specialty-Child & Adolescent Psychiatry', 'specialty-Child Abuse Pediatrics', 'specialty-Children', 'specialty-Chronic Care', 'specialty-Clinical', 'specialty-Clinical & Laboratory Dermatological Immunology', 'specialty-Clinical & Laboratory Immunology', 'specialty-Clinical Biochemical Genetics', 'specialty-Clinical Cardiac Electrophysiology', 'specialty-Clinical Child & Adolescent', 'specialty-Clinical Cytogenetic', 'specialty-Clinical Genetics (M.D.)', 'specialty-Clinical Neurophysiology', 'specialty-Clinical Pathology', 'specialty-Clinical Pathology/Laboratory Medicine', 'specialty-Cognitive & Behavioral', 'specialty-College Health', 'specialty-Community Health', 'specialty-Community Health/Public Health', 'specialty-Computed Tomography', 'specialty-Continuing Education/Staff Development', 'specialty-Corneal and Contact Management', 'specialty-Counseling', 'specialty-Critical Access', 'specialty-Critical Care', 'specialty-Critical Care Medicine', 'specialty-Customized Equipment', 'specialty-Cytopathology', 'specialty-Dental', 'specialty-Dental Public Health', 'specialty-Dentist Anesthesiologist', 'specialty-Dermatopathology', 'specialty-Developmental \\x96 Behavioral Pediatrics', 'specialty-Diabetes Educator', 'specialty-Diagnostic Neuroimaging', 'specialty-Diagnostic Radiology', 'specialty-Diagnostic Ultrasound', 'specialty-Emergency', 'specialty-Emergency Care', 'specialty-Emergency Medical Services', 'specialty-Endocrinology, Diabetes & Metabolism', 'specialty-Endodontics', 'specialty-Endoscopy', 'specialty-Facial Plastic Surgery', 'specialty-Family', 'specialty-Family Health', 'specialty-Family Planning, Non-Surgical', 'specialty-Federally Qualified Health Center (FQHC)', 'specialty-Female Pelvic Medicine and Reconstructive Surgery', 'specialty-Foot & Ankle Surgery', 'specialty-Foot Surgery', 'specialty-Foot and Ankle Surgery', 'specialty-Forensic', 'specialty-Forensic Pathology', 'specialty-Forensic Psychiatry', 'specialty-Gastroenterology', 'specialty-General Practice', 'specialty-Geriatric', 'specialty-Geriatric Medicine', 'specialty-Geriatric Psychiatry', 'specialty-Gerontology', 'specialty-Group Psychotherapy', 'specialty-Gynecologic Oncology', 'specialty-Gynecology', 'specialty-Hand Surgery', 'specialty-Health', 'specialty-Health Service', 'specialty-Hematology', 'specialty-Hematology & Oncology', 'specialty-Hemodialysis', 'specialty-Hepatology', 'specialty-Home Health', 'specialty-Home Modifications', 'specialty-Hospice', 'specialty-Hospice and Palliative Medicine', 'specialty-Hypertension Specialist', 'specialty-Immunopathology', 'specialty-In Vivo & In Vitro Nuclear Medicine', 'specialty-Independent Duty Corpsman', 'specialty-Infection Control', 'specialty-Infectious Disease', 'specialty-Internist', 'specialty-Interventional Cardiology', 'specialty-Interventional Pain Medicine', 'specialty-Long-Term Care', 'specialty-Low Vision Rehabilitation', 'specialty-MOHS-Micrographic Surgery', 'specialty-Magnetic Resonance Imaging (MRI)', 'specialty-Maternal & Fetal Medicine', 'specialty-Maternal Newborn', 'specialty-Medical', 'specialty-Medical Microbiology', 'specialty-Medical Oncology', 'specialty-Medical Specialty', 'specialty-Medical Toxicology', 'specialty-Medical-Surgical', 'specialty-Mental Health', 'specialty-Mental Health (Including Community Mental Health Center)', 'specialty-Mental Retardation & Developmental Disabilities', 'specialty-Methadone Clinic', 'specialty-Microbiology', 'specialty-Multi-Specialty', 'specialty-Neonatal', 'specialty-Neonatal Intensive Care', 'specialty-Neonatal, Critical Care', 'specialty-Neonatal-Perinatal Medicine', 'specialty-Nephrology', 'specialty-Neurodevelopmental Disabilities', 'specialty-Neurology', 'specialty-Neurology with Special Qualifications in Child Neurology', 'specialty-Neuromuscular Medicine', 'specialty-Neuropathology', 'specialty-Neuroradiology', 'specialty-Neuroscience', 'specialty-Nuclear Cardiology', 'specialty-Nuclear Imaging & Therapy', 'specialty-Nuclear Radiology', 'specialty-Nursing Care, Pediatric', 'specialty-Nutrition', 'specialty-Nutrition Support', 'specialty-Nutrition, Education', 'specialty-Obesity Medicine', 'specialty-Obstetric, High-Risk', 'specialty-Obstetric, Inpatient', 'specialty-Obstetrics', 'specialty-Obstetrics & Gynecology', 'specialty-Occupational Health', 'specialty-Occupational Medicine', 'specialty-Occupational Vision', 'specialty-Ocularist', 'specialty-Oncology', 'specialty-Oncology, Pediatrics', 'specialty-Ophthalmic', 'specialty-Ophthalmic Plastic and Reconstructive Surgery', 'specialty-Ophthalmologic Surgery', 'specialty-Optician', 'specialty-Oral and Maxillofacial Pathology', 'specialty-Oral and Maxillofacial Radiology', 'specialty-Oral and Maxillofacial Surgery', 'specialty-Orthodontics and Dentofacial Orthopedics', 'specialty-Orthopaedic Surgery of the Spine', 'specialty-Orthopaedic Trauma', 'specialty-Orthopedic', 'specialty-Otolaryngic Allergy', 'specialty-Otolaryngology/Facial Plastic Surgery', 'specialty-Otology & Neurotology', 'specialty-Otorhinolaryngology & Head-Neck', 'specialty-Pain', 'specialty-Pain Management', 'specialty-Pain Medicine', 'specialty-Pastoral', 'specialty-Pediatric Allergy/Immunology', 'specialty-Pediatric Anesthesiology', 'specialty-Pediatric Cardiology', 'specialty-Pediatric Critical Care Medicine', 'specialty-Pediatric Dentistry', 'specialty-Pediatric Dermatology', 'specialty-Pediatric Emergency Medicine', 'specialty-Pediatric Endocrinology', 'specialty-Pediatric Gastroenterology', 'specialty-Pediatric Hematology-Oncology', 'specialty-Pediatric Infectious Diseases', 'specialty-Pediatric Nephrology', 'specialty-Pediatric Orthopaedic Surgery', 'specialty-Pediatric Otolaryngology', 'specialty-Pediatric Pathology', 'specialty-Pediatric Pulmonology', 'specialty-Pediatric Radiology', 'specialty-Pediatric Rehabilitation Medicine', 'specialty-Pediatric Rheumatology', 'specialty-Pediatric Surgery', 'specialty-Pediatric Urology', 'specialty-Pediatrics', 'specialty-Pediatrics, Critical Care', 'specialty-Perinatal', 'specialty-Periodontics', 'specialty-Personal Care Attendant', 'specialty-Ph.D. Medical Genetics', 'specialty-Pharmacist Clinician (PhC)/ Clinical Pharmacy Specialist', 'specialty-Pharmacotherapy', 'specialty-Physical Therapy', 'specialty-Plastic Surgery', 'specialty-Plastic Surgery Within the Head and Neck', 'specialty-Plastic Surgery within the Head & Neck', 'specialty-Plastic and Reconstructive Surgery', 'specialty-Podiatric', 'specialty-Prescribing (Medical)', 'specialty-Preventive Medicine/Occupational Environmental Medicine', 'specialty-Primary Care', 'specialty-Primary Podiatric Medicine', 'specialty-Prison Health', 'specialty-Procedural Dermatology', 'specialty-Professional', 'specialty-Prosthodontics', 'specialty-Psych/Mental Health', 'specialty-Psych/Mental Health, Adult', 'specialty-Psych/Mental Health, Child & Adolescent', 'specialty-Psych/Mental Health, Child & Family', 'specialty-Psych/Mental Health, Chronically Ill', 'specialty-Psych/Mental Health, Community', 'specialty-Psych/Mental Health, Geropsychiatric', 'specialty-Psychiatric', 'specialty-Psychiatry', 'specialty-Psychoanalysis', 'specialty-Psychosomatic Medicine', 'specialty-Public Health & General Preventive Medicine', 'specialty-Public Medicine', 'specialty-Pulmonary Diagnostics', 'specialty-Pulmonary Disease', 'specialty-Radiation Oncology', 'specialty-Radiation Therapy', 'specialty-Radiological Physics', 'specialty-Radiology', 'specialty-Registered Nurse First Assistant', 'specialty-Rehabilitation', 'specialty-Rehabilitation, Blind', 'specialty-Reproductive Endocrinology', 'specialty-Reproductive Endocrinology/Infertility', 'specialty-Research Study', 'specialty-Respite Care, Mental Retardation and/or Developmental Disabilities, Child', 'specialty-Rheumatology', 'specialty-Rural', 'specialty-Rural Health', 'specialty-School', 'specialty-Sleep Medicine', 'specialty-Speech-Language Assistant', 'specialty-Spinal Cord Injury Medicine', 'specialty-Sports Medicine', 'specialty-Sports Physician', 'specialty-Sports Vision', 'specialty-Surgery of the Hand', 'specialty-Surgical Assistant', 'specialty-Surgical Critical Care', 'specialty-Surgical Oncology', 'specialty-Surgical Technologist', 'specialty-Therapeutic Radiology', 'specialty-Transplant Hepatology', 'specialty-Transplantation', 'specialty-Trauma Surgery', 'specialty-Undersea and Hyperbaric Medicine', 'specialty-Urgent Care', 'specialty-Urology', 'specialty-VA', 'specialty-Vascular & Interventional Radiology', 'specialty-Vascular Neurology', 'specialty-Vascular Sonography', 'specialty-Vascular Specialist', 'specialty-Vascular Surgery', 'specialty-Vision Therapy', 'specialty-Women', \"specialty-Women's Health\", \"specialty-Women's Health Care, Ambulatory\", 'specialty-Wound Care']\n"
     ]
    }
   ],
   "source": [
    "names = list(df.columns.values)\n",
    "print(names)"
   ]
  },
  {
   "cell_type": "code",
   "execution_count": 6,
   "metadata": {},
   "outputs": [
    {
     "data": {
      "text/plain": [
       "array([ 6.1351204e-07,  1.1510107e-06, -7.2696034e-06, ...,\n",
       "       -1.0019116e-03, -8.5179921e-04,  2.6145394e-04], dtype=float32)"
      ]
     },
     "execution_count": 6,
     "metadata": {},
     "output_type": "execute_result"
    }
   ],
   "source": [
    "regressor.coef_"
   ]
  },
  {
   "cell_type": "code",
   "execution_count": 7,
   "metadata": {},
   "outputs": [
    {
     "data": {
      "text/plain": [
       "0.0010049464"
      ]
     },
     "execution_count": 7,
     "metadata": {},
     "output_type": "execute_result"
    }
   ],
   "source": [
    "regressor.intercept_"
   ]
  },
  {
   "cell_type": "code",
   "execution_count": 8,
   "metadata": {},
   "outputs": [],
   "source": [
    "%matplotlib inline    \n",
    "from IPython.display import display   \n",
    "\n",
    "names.remove(drugName)\n",
    "\n",
    "\n",
    "def report_coef(names,coef,intercept):\n",
    "    r = pd.DataFrame( { 'coef': coef, 'positive': coef>0.4  }, index = names )\n",
    "    r = r.sort_values(by=['coef'])\n",
    "    \n",
    "    badRows = r[(r['positive'] == False)].index\n",
    "    #badCoef = r[(r['coef'] <= 1.00e-02)].index\n",
    "    r.drop(badRows, inplace=True)\n",
    "    #r.drop(badCoef, inplace=True)\n",
    "    \n",
    "    display(r)\n",
    "    print(\"Intercept: {}\".format(intercept))\n",
    "    r['coef'].plot(kind='barh', color=r['positive'].map({True: 'b', False: 'r'}))"
   ]
  },
  {
   "cell_type": "code",
   "execution_count": 9,
   "metadata": {
    "scrolled": false
   },
   "outputs": [
    {
     "data": {
      "text/html": [
       "<div>\n",
       "<style scoped>\n",
       "    .dataframe tbody tr th:only-of-type {\n",
       "        vertical-align: middle;\n",
       "    }\n",
       "\n",
       "    .dataframe tbody tr th {\n",
       "        vertical-align: top;\n",
       "    }\n",
       "\n",
       "    .dataframe thead th {\n",
       "        text-align: right;\n",
       "    }\n",
       "</style>\n",
       "<table border=\"1\" class=\"dataframe\">\n",
       "  <thead>\n",
       "    <tr style=\"text-align: right;\">\n",
       "      <th></th>\n",
       "      <th>coef</th>\n",
       "      <th>positive</th>\n",
       "    </tr>\n",
       "  </thead>\n",
       "  <tbody>\n",
       "  </tbody>\n",
       "</table>\n",
       "</div>"
      ],
      "text/plain": [
       "Empty DataFrame\n",
       "Columns: [coef, positive]\n",
       "Index: []"
      ]
     },
     "metadata": {},
     "output_type": "display_data"
    },
    {
     "name": "stdout",
     "output_type": "stream",
     "text": [
      "Intercept: 0.001004946418106556\n"
     ]
    },
    {
     "ename": "TypeError",
     "evalue": "Empty 'DataFrame': no numeric data to plot",
     "output_type": "error",
     "traceback": [
      "\u001b[1;31m---------------------------------------------------------------------------\u001b[0m",
      "\u001b[1;31mTypeError\u001b[0m                                 Traceback (most recent call last)",
      "\u001b[1;32m<ipython-input-9-b9ccd01e0792>\u001b[0m in \u001b[0;36m<module>\u001b[1;34m\u001b[0m\n\u001b[0;32m      2\u001b[0m   \u001b[0mnames\u001b[0m\u001b[1;33m,\u001b[0m\u001b[1;33m\u001b[0m\u001b[1;33m\u001b[0m\u001b[0m\n\u001b[0;32m      3\u001b[0m   \u001b[1;33m(\u001b[0m\u001b[0mregressor\u001b[0m\u001b[1;33m.\u001b[0m\u001b[0mcoef_\u001b[0m \u001b[1;33m*\u001b[0m \u001b[1;36m1.9\u001b[0m\u001b[1;33m)\u001b[0m\u001b[1;33m,\u001b[0m\u001b[1;33m\u001b[0m\u001b[1;33m\u001b[0m\u001b[0m\n\u001b[1;32m----> 4\u001b[1;33m   regressor.intercept_)\n\u001b[0m",
      "\u001b[1;32m<ipython-input-8-42a88e859276>\u001b[0m in \u001b[0;36mreport_coef\u001b[1;34m(names, coef, intercept)\u001b[0m\n\u001b[0;32m     16\u001b[0m     \u001b[0mdisplay\u001b[0m\u001b[1;33m(\u001b[0m\u001b[0mr\u001b[0m\u001b[1;33m)\u001b[0m\u001b[1;33m\u001b[0m\u001b[1;33m\u001b[0m\u001b[0m\n\u001b[0;32m     17\u001b[0m     \u001b[0mprint\u001b[0m\u001b[1;33m(\u001b[0m\u001b[1;34m\"Intercept: {}\"\u001b[0m\u001b[1;33m.\u001b[0m\u001b[0mformat\u001b[0m\u001b[1;33m(\u001b[0m\u001b[0mintercept\u001b[0m\u001b[1;33m)\u001b[0m\u001b[1;33m)\u001b[0m\u001b[1;33m\u001b[0m\u001b[1;33m\u001b[0m\u001b[0m\n\u001b[1;32m---> 18\u001b[1;33m     \u001b[0mr\u001b[0m\u001b[1;33m[\u001b[0m\u001b[1;34m'coef'\u001b[0m\u001b[1;33m]\u001b[0m\u001b[1;33m.\u001b[0m\u001b[0mplot\u001b[0m\u001b[1;33m(\u001b[0m\u001b[0mkind\u001b[0m\u001b[1;33m=\u001b[0m\u001b[1;34m'barh'\u001b[0m\u001b[1;33m,\u001b[0m \u001b[0mcolor\u001b[0m\u001b[1;33m=\u001b[0m\u001b[0mr\u001b[0m\u001b[1;33m[\u001b[0m\u001b[1;34m'positive'\u001b[0m\u001b[1;33m]\u001b[0m\u001b[1;33m.\u001b[0m\u001b[0mmap\u001b[0m\u001b[1;33m(\u001b[0m\u001b[1;33m{\u001b[0m\u001b[1;32mTrue\u001b[0m\u001b[1;33m:\u001b[0m \u001b[1;34m'b'\u001b[0m\u001b[1;33m,\u001b[0m \u001b[1;32mFalse\u001b[0m\u001b[1;33m:\u001b[0m \u001b[1;34m'r'\u001b[0m\u001b[1;33m}\u001b[0m\u001b[1;33m)\u001b[0m\u001b[1;33m)\u001b[0m\u001b[1;33m\u001b[0m\u001b[1;33m\u001b[0m\u001b[0m\n\u001b[0m",
      "\u001b[1;32mD:\\Anaconda3\\lib\\site-packages\\pandas\\plotting\\_core.py\u001b[0m in \u001b[0;36m__call__\u001b[1;34m(self, kind, ax, figsize, use_index, title, grid, legend, style, logx, logy, loglog, xticks, yticks, xlim, ylim, rot, fontsize, colormap, table, yerr, xerr, label, secondary_y, **kwds)\u001b[0m\n\u001b[0;32m   2740\u001b[0m                            \u001b[0mcolormap\u001b[0m\u001b[1;33m=\u001b[0m\u001b[0mcolormap\u001b[0m\u001b[1;33m,\u001b[0m \u001b[0mtable\u001b[0m\u001b[1;33m=\u001b[0m\u001b[0mtable\u001b[0m\u001b[1;33m,\u001b[0m \u001b[0myerr\u001b[0m\u001b[1;33m=\u001b[0m\u001b[0myerr\u001b[0m\u001b[1;33m,\u001b[0m\u001b[1;33m\u001b[0m\u001b[1;33m\u001b[0m\u001b[0m\n\u001b[0;32m   2741\u001b[0m                            \u001b[0mxerr\u001b[0m\u001b[1;33m=\u001b[0m\u001b[0mxerr\u001b[0m\u001b[1;33m,\u001b[0m \u001b[0mlabel\u001b[0m\u001b[1;33m=\u001b[0m\u001b[0mlabel\u001b[0m\u001b[1;33m,\u001b[0m \u001b[0msecondary_y\u001b[0m\u001b[1;33m=\u001b[0m\u001b[0msecondary_y\u001b[0m\u001b[1;33m,\u001b[0m\u001b[1;33m\u001b[0m\u001b[1;33m\u001b[0m\u001b[0m\n\u001b[1;32m-> 2742\u001b[1;33m                            **kwds)\n\u001b[0m\u001b[0;32m   2743\u001b[0m     \u001b[0m__call__\u001b[0m\u001b[1;33m.\u001b[0m\u001b[0m__doc__\u001b[0m \u001b[1;33m=\u001b[0m \u001b[0mplot_series\u001b[0m\u001b[1;33m.\u001b[0m\u001b[0m__doc__\u001b[0m\u001b[1;33m\u001b[0m\u001b[1;33m\u001b[0m\u001b[0m\n\u001b[0;32m   2744\u001b[0m \u001b[1;33m\u001b[0m\u001b[0m\n",
      "\u001b[1;32mD:\\Anaconda3\\lib\\site-packages\\pandas\\plotting\\_core.py\u001b[0m in \u001b[0;36mplot_series\u001b[1;34m(data, kind, ax, figsize, use_index, title, grid, legend, style, logx, logy, loglog, xticks, yticks, xlim, ylim, rot, fontsize, colormap, table, yerr, xerr, label, secondary_y, **kwds)\u001b[0m\n\u001b[0;32m   1996\u001b[0m                  \u001b[0myerr\u001b[0m\u001b[1;33m=\u001b[0m\u001b[0myerr\u001b[0m\u001b[1;33m,\u001b[0m \u001b[0mxerr\u001b[0m\u001b[1;33m=\u001b[0m\u001b[0mxerr\u001b[0m\u001b[1;33m,\u001b[0m\u001b[1;33m\u001b[0m\u001b[1;33m\u001b[0m\u001b[0m\n\u001b[0;32m   1997\u001b[0m                  \u001b[0mlabel\u001b[0m\u001b[1;33m=\u001b[0m\u001b[0mlabel\u001b[0m\u001b[1;33m,\u001b[0m \u001b[0msecondary_y\u001b[0m\u001b[1;33m=\u001b[0m\u001b[0msecondary_y\u001b[0m\u001b[1;33m,\u001b[0m\u001b[1;33m\u001b[0m\u001b[1;33m\u001b[0m\u001b[0m\n\u001b[1;32m-> 1998\u001b[1;33m                  **kwds)\n\u001b[0m\u001b[0;32m   1999\u001b[0m \u001b[1;33m\u001b[0m\u001b[0m\n\u001b[0;32m   2000\u001b[0m \u001b[1;33m\u001b[0m\u001b[0m\n",
      "\u001b[1;32mD:\\Anaconda3\\lib\\site-packages\\pandas\\plotting\\_core.py\u001b[0m in \u001b[0;36m_plot\u001b[1;34m(data, x, y, subplots, ax, kind, **kwds)\u001b[0m\n\u001b[0;32m   1799\u001b[0m         \u001b[0mplot_obj\u001b[0m \u001b[1;33m=\u001b[0m \u001b[0mklass\u001b[0m\u001b[1;33m(\u001b[0m\u001b[0mdata\u001b[0m\u001b[1;33m,\u001b[0m \u001b[0msubplots\u001b[0m\u001b[1;33m=\u001b[0m\u001b[0msubplots\u001b[0m\u001b[1;33m,\u001b[0m \u001b[0max\u001b[0m\u001b[1;33m=\u001b[0m\u001b[0max\u001b[0m\u001b[1;33m,\u001b[0m \u001b[0mkind\u001b[0m\u001b[1;33m=\u001b[0m\u001b[0mkind\u001b[0m\u001b[1;33m,\u001b[0m \u001b[1;33m**\u001b[0m\u001b[0mkwds\u001b[0m\u001b[1;33m)\u001b[0m\u001b[1;33m\u001b[0m\u001b[1;33m\u001b[0m\u001b[0m\n\u001b[0;32m   1800\u001b[0m \u001b[1;33m\u001b[0m\u001b[0m\n\u001b[1;32m-> 1801\u001b[1;33m     \u001b[0mplot_obj\u001b[0m\u001b[1;33m.\u001b[0m\u001b[0mgenerate\u001b[0m\u001b[1;33m(\u001b[0m\u001b[1;33m)\u001b[0m\u001b[1;33m\u001b[0m\u001b[1;33m\u001b[0m\u001b[0m\n\u001b[0m\u001b[0;32m   1802\u001b[0m     \u001b[0mplot_obj\u001b[0m\u001b[1;33m.\u001b[0m\u001b[0mdraw\u001b[0m\u001b[1;33m(\u001b[0m\u001b[1;33m)\u001b[0m\u001b[1;33m\u001b[0m\u001b[1;33m\u001b[0m\u001b[0m\n\u001b[0;32m   1803\u001b[0m     \u001b[1;32mreturn\u001b[0m \u001b[0mplot_obj\u001b[0m\u001b[1;33m.\u001b[0m\u001b[0mresult\u001b[0m\u001b[1;33m\u001b[0m\u001b[1;33m\u001b[0m\u001b[0m\n",
      "\u001b[1;32mD:\\Anaconda3\\lib\\site-packages\\pandas\\plotting\\_core.py\u001b[0m in \u001b[0;36mgenerate\u001b[1;34m(self)\u001b[0m\n\u001b[0;32m    247\u001b[0m     \u001b[1;32mdef\u001b[0m \u001b[0mgenerate\u001b[0m\u001b[1;33m(\u001b[0m\u001b[0mself\u001b[0m\u001b[1;33m)\u001b[0m\u001b[1;33m:\u001b[0m\u001b[1;33m\u001b[0m\u001b[1;33m\u001b[0m\u001b[0m\n\u001b[0;32m    248\u001b[0m         \u001b[0mself\u001b[0m\u001b[1;33m.\u001b[0m\u001b[0m_args_adjust\u001b[0m\u001b[1;33m(\u001b[0m\u001b[1;33m)\u001b[0m\u001b[1;33m\u001b[0m\u001b[1;33m\u001b[0m\u001b[0m\n\u001b[1;32m--> 249\u001b[1;33m         \u001b[0mself\u001b[0m\u001b[1;33m.\u001b[0m\u001b[0m_compute_plot_data\u001b[0m\u001b[1;33m(\u001b[0m\u001b[1;33m)\u001b[0m\u001b[1;33m\u001b[0m\u001b[1;33m\u001b[0m\u001b[0m\n\u001b[0m\u001b[0;32m    250\u001b[0m         \u001b[0mself\u001b[0m\u001b[1;33m.\u001b[0m\u001b[0m_setup_subplots\u001b[0m\u001b[1;33m(\u001b[0m\u001b[1;33m)\u001b[0m\u001b[1;33m\u001b[0m\u001b[1;33m\u001b[0m\u001b[0m\n\u001b[0;32m    251\u001b[0m         \u001b[0mself\u001b[0m\u001b[1;33m.\u001b[0m\u001b[0m_make_plot\u001b[0m\u001b[1;33m(\u001b[0m\u001b[1;33m)\u001b[0m\u001b[1;33m\u001b[0m\u001b[1;33m\u001b[0m\u001b[0m\n",
      "\u001b[1;32mD:\\Anaconda3\\lib\\site-packages\\pandas\\plotting\\_core.py\u001b[0m in \u001b[0;36m_compute_plot_data\u001b[1;34m(self)\u001b[0m\n\u001b[0;32m    365\u001b[0m         \u001b[1;32mif\u001b[0m \u001b[0mis_empty\u001b[0m\u001b[1;33m:\u001b[0m\u001b[1;33m\u001b[0m\u001b[1;33m\u001b[0m\u001b[0m\n\u001b[0;32m    366\u001b[0m             raise TypeError('Empty {0!r}: no numeric data to '\n\u001b[1;32m--> 367\u001b[1;33m                             'plot'.format(numeric_data.__class__.__name__))\n\u001b[0m\u001b[0;32m    368\u001b[0m \u001b[1;33m\u001b[0m\u001b[0m\n\u001b[0;32m    369\u001b[0m         \u001b[0mself\u001b[0m\u001b[1;33m.\u001b[0m\u001b[0mdata\u001b[0m \u001b[1;33m=\u001b[0m \u001b[0mnumeric_data\u001b[0m\u001b[1;33m\u001b[0m\u001b[1;33m\u001b[0m\u001b[0m\n",
      "\u001b[1;31mTypeError\u001b[0m: Empty 'DataFrame': no numeric data to plot"
     ]
    }
   ],
   "source": [
    "report_coef(\n",
    "  names,\n",
    "  (regressor.coef_ * 1.9),\n",
    "  regressor.intercept_)"
   ]
  },
  {
   "cell_type": "code",
   "execution_count": null,
   "metadata": {},
   "outputs": [],
   "source": []
  },
  {
   "cell_type": "code",
   "execution_count": null,
   "metadata": {},
   "outputs": [],
   "source": []
  },
  {
   "cell_type": "code",
   "execution_count": null,
   "metadata": {},
   "outputs": [],
   "source": []
  }
 ],
 "metadata": {
  "kernelspec": {
   "display_name": "Python 3",
   "language": "python",
   "name": "python3"
  },
  "language_info": {
   "codemirror_mode": {
    "name": "ipython",
    "version": 3
   },
   "file_extension": ".py",
   "mimetype": "text/x-python",
   "name": "python",
   "nbconvert_exporter": "python",
   "pygments_lexer": "ipython3",
   "version": "3.7.3"
  }
 },
 "nbformat": 4,
 "nbformat_minor": 2
}
